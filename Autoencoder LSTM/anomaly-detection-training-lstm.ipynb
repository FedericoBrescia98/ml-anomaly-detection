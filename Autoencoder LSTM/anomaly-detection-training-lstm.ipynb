{
 "cells": [
  {
   "cell_type": "code",
   "execution_count": 29,
   "metadata": {},
   "outputs": [
    {
     "name": "stdout",
     "output_type": "stream",
     "text": [
      "[PhysicalDevice(name='/physical_device:GPU:0', device_type='GPU')]\n"
     ]
    }
   ],
   "source": [
    "from os import listdir\n",
    "from os.path import join\n",
    "import numpy as np\n",
    "import pandas as pd\n",
    "import matplotlib.pyplot as plt\n",
    "import random\n",
    "from scipy import stats\n",
    "import tensorflow as tf\n",
    "physical_devices = tf.config.experimental.list_physical_devices('GPU')\n",
    "print(physical_devices)\n",
    "# print(tf.test.is_gpu_available()) \n",
    "# print(tf.test.is_built_with_cuda())\n",
    "from tensorflow import keras\n",
    "from tensorflow.keras.models import Sequential\n",
    "from tensorflow.keras.layers import InputLayer, Dense, LSTM, Dropout, RepeatVector, TimeDistributed\n",
    "from sklearn.metrics import confusion_matrix\n",
    "from keras_tuner.tuners import Hyperband\n",
    "import seaborn as sn"
   ]
  },
  {
   "cell_type": "code",
   "execution_count": 30,
   "metadata": {},
   "outputs": [],
   "source": [
    "# Settings\n",
    "dataset_path = '..\\\\Dataset'  # Directory where raw accelerometer data is stored\n",
    "normal_op_list = ['my steady']\n",
    "anomaly_op_list = ['fan med', 'fan high',\n",
    "                  'fan low weight', 'fan med weight', 'fan high weight']\n",
    "\n",
    "val_ratio = 0.2             # Percentage of samples that should be held for validation set\n",
    "test_ratio = 0.2            # Percentage of samples that should be held for test set\n",
    "raw_scale = 1               # Multiply raw values to fit into integers\n",
    "\n",
    "max_measurements = 128      # Expected number of measurements in each file (truncate to this)\n",
    "\n",
    "time_steps = 32    # Memory of the lstm\n",
    "\n",
    "keras_model_name = 'models\\\\LSTM_model'           # Will be given .h5 suffix\n",
    "sample_file_name = 'test_samples\\\\normal_anomaly_samples'  # Will be given .npz suffix\n",
    "rep_dataset_name = 'test_samples\\\\normal_anomaly_test_set' # Will be given .npz suffix\n"
   ]
  },
  {
   "cell_type": "code",
   "execution_count": 31,
   "metadata": {},
   "outputs": [],
   "source": [
    "# Create list of filenames\n",
    "def createFilenameList(op_list):\n",
    "    \n",
    "    # Extract paths and filenames in each directory\n",
    "    op_filenames = []\n",
    "    num_samples = 0\n",
    "    for index, target in enumerate(op_list):\n",
    "        samples_in_dir = listdir(join(dataset_path, target))\n",
    "        samples_in_dir = [join(dataset_path, target, sample) for sample in samples_in_dir]\n",
    "        op_filenames.append(samples_in_dir)\n",
    "    \n",
    "    # Flatten list\n",
    "    return [item for sublist in op_filenames for item in sublist]"
   ]
  },
  {
   "cell_type": "code",
   "execution_count": 32,
   "metadata": {},
   "outputs": [
    {
     "name": "stdout",
     "output_type": "stream",
     "text": [
      "Number of normal samples: 527\n",
      "Number of anomaly samples: 2926\n"
     ]
    }
   ],
   "source": [
    "# Create normal and anomaly filename lists\n",
    "normal_op_filenames = createFilenameList(normal_op_list)\n",
    "anomaly_op_filenames = createFilenameList(anomaly_op_list)\n",
    "print('Number of normal samples:', len(normal_op_filenames))\n",
    "print('Number of anomaly samples:', len(anomaly_op_filenames))"
   ]
  },
  {
   "cell_type": "code",
   "execution_count": 33,
   "metadata": {},
   "outputs": [],
   "source": [
    "# Shuffle lists\n",
    "random.shuffle(normal_op_filenames)\n",
    "random.shuffle(anomaly_op_filenames)"
   ]
  },
  {
   "cell_type": "code",
   "execution_count": 34,
   "metadata": {},
   "outputs": [],
   "source": [
    "# Calculate validation and test set sizes\n",
    "val_set_size = int(len(normal_op_filenames) * val_ratio)\n",
    "test_set_size = int(len(normal_op_filenames) * test_ratio)"
   ]
  },
  {
   "cell_type": "code",
   "execution_count": 35,
   "metadata": {},
   "outputs": [
    {
     "name": "stdout",
     "output_type": "stream",
     "text": [
      "Number of training samples: 317\n",
      "Number of validation samples: 105\n",
      "Number of test samples: 105\n"
     ]
    }
   ],
   "source": [
    "# Break dataset apart into train, validation, and test sets\n",
    "num_samples = len(normal_op_filenames)\n",
    "filenames_val = normal_op_filenames[:val_set_size]\n",
    "filenames_test = normal_op_filenames[val_set_size:(val_set_size + test_set_size)]\n",
    "filenames_train = normal_op_filenames[(val_set_size + test_set_size):]\n",
    "\n",
    "# Print out number of samples in each set\n",
    "print('Number of training samples:', len(filenames_train))\n",
    "print('Number of validation samples:', len(filenames_val))\n",
    "print('Number of test samples:', len(filenames_test))\n",
    "\n",
    "# Check that our splits add up correctly\n",
    "assert(len(filenames_train) + len(filenames_val) + len(filenames_test)) == num_samples"
   ]
  },
  {
   "cell_type": "code",
   "execution_count": 37,
   "metadata": {},
   "outputs": [],
   "source": [
    "# Function: loop through filenames, creating feature sets\n",
    "# Convert input data into 3-D array combining TIME_STEPS.\n",
    "# The shape of the array should be [samples, TIME_STEPS, features], as required for LSTM network.\n",
    "import math\n",
    "\n",
    "def create_sequences(filenames):\n",
    "    x_out = []\n",
    "    for file in filenames:        \n",
    "        sample = np.genfromtxt(file, delimiter=',')\n",
    "        \n",
    "        # Truncate sample\n",
    "        for i in range(0, math.floor((max_measurements/time_steps)), time_steps):\n",
    "            x_out.append(sample[i*time_steps:((i+1)*time_steps)])\n",
    "            \n",
    "    return np.array(x_out)"
   ]
  },
  {
   "cell_type": "code",
   "execution_count": 38,
   "metadata": {},
   "outputs": [
    {
     "name": "stdout",
     "output_type": "stream",
     "text": [
      "Extracted features from training set. Shape: (317, 32, 3)\n",
      "Extracted features from validation set. Shape: (105, 32, 3)\n",
      "Extracted features from test set. Shape: (105, 32, 3)\n"
     ]
    }
   ],
   "source": [
    "# Create training, validation, and test sets\n",
    "x_train = create_sequences(filenames_train)\n",
    "print('Extracted features from training set. Shape:', x_train.shape)\n",
    "x_val = create_sequences(filenames_val)\n",
    "print('Extracted features from validation set. Shape:', x_val.shape)\n",
    "x_test = create_sequences(filenames_test)\n",
    "print('Extracted features from test set. Shape:', x_test.shape)"
   ]
  },
  {
   "cell_type": "code",
   "execution_count": 43,
   "metadata": {},
   "outputs": [
    {
     "name": "stdout",
     "output_type": "stream",
     "text": [
      "WARNING:tensorflow:Layer lstm_4 will not use cuDNN kernels since it doesn't meet the criteria. It will use a generic GPU kernel as fallback when running on GPU.\n",
      "WARNING:tensorflow:Layer lstm_5 will not use cuDNN kernels since it doesn't meet the criteria. It will use a generic GPU kernel as fallback when running on GPU.\n",
      "WARNING:tensorflow:Layer lstm_6 will not use cuDNN kernels since it doesn't meet the criteria. It will use a generic GPU kernel as fallback when running on GPU.\n",
      "WARNING:tensorflow:Layer lstm_7 will not use cuDNN kernels since it doesn't meet the criteria. It will use a generic GPU kernel as fallback when running on GPU.\n",
      "Model: \"sequential_1\"\n",
      "_________________________________________________________________\n",
      " Layer (type)                Output Shape              Param #   \n",
      "=================================================================\n",
      " lstm_4 (LSTM)               (None, 32, 32)            4608      \n",
      "                                                                 \n",
      " lstm_5 (LSTM)               (None, 16)                3136      \n",
      "                                                                 \n",
      " repeat_vector_1 (RepeatVect  (None, 32, 16)           0         \n",
      " or)                                                             \n",
      "                                                                 \n",
      " lstm_6 (LSTM)               (None, 32, 16)            2112      \n",
      "                                                                 \n",
      " lstm_7 (LSTM)               (None, 32, 32)            6272      \n",
      "                                                                 \n",
      " time_distributed_1 (TimeDis  (None, 32, 3)            99        \n",
      " tributed)                                                       \n",
      "                                                                 \n",
      "=================================================================\n",
      "Total params: 16,227\n",
      "Trainable params: 16,227\n",
      "Non-trainable params: 0\n",
      "_________________________________________________________________\n"
     ]
    }
   ],
   "source": [
    "# Build model\n",
    "# Reference from: https://towardsdatascience.com/time-series-of-price-anomaly-detection-with-lstm-11a12ba4f6d9\n",
    "model = Sequential()\n",
    "model.add(InputLayer(input_shape=(x_train.shape[1], x_train.shape[2])))\n",
    "model.add(LSTM(32, activation='relu', return_sequences=True))\n",
    "model.add(LSTM(16, activation='relu', return_sequences=False))\n",
    "model.add(RepeatVector(x_train.shape[1]))   # Repeats the inputs time_samples times\n",
    "model.add(LSTM(16, activation='relu', return_sequences=True))\n",
    "model.add(LSTM(32, activation='relu', return_sequences=True))\n",
    "model.add(TimeDistributed(Dense(x_train.shape[2]))) # Get the output\n",
    "\n",
    "# Add training parameters to model\n",
    "model.compile(loss='mean_squared_error', optimizer='adam', metrics = ['mse'])\n",
    "\n",
    "# Display model\n",
    "model.summary()"
   ]
  },
  {
   "cell_type": "code",
   "execution_count": 44,
   "metadata": {},
   "outputs": [
    {
     "name": "stdout",
     "output_type": "stream",
     "text": [
      "Epoch 1/50\n",
      "10/10 [==============================] - 10s 500ms/step - loss: 0.3001 - mse: 0.3001 - val_loss: 0.2641 - val_mse: 0.2641\n",
      "Epoch 2/50\n",
      "10/10 [==============================] - 4s 427ms/step - loss: 0.2061 - mse: 0.2061 - val_loss: 0.1442 - val_mse: 0.1442\n",
      "Epoch 3/50\n",
      "10/10 [==============================] - 4s 423ms/step - loss: 0.1086 - mse: 0.1086 - val_loss: 0.0737 - val_mse: 0.0737\n",
      "Epoch 4/50\n",
      "10/10 [==============================] - 4s 415ms/step - loss: 0.0575 - mse: 0.0575 - val_loss: 0.0477 - val_mse: 0.0477\n",
      "Epoch 5/50\n",
      "10/10 [==============================] - 4s 443ms/step - loss: 0.0438 - mse: 0.0438 - val_loss: 0.0400 - val_mse: 0.0400\n",
      "Epoch 6/50\n",
      "10/10 [==============================] - 4s 417ms/step - loss: 0.0377 - mse: 0.0377 - val_loss: 0.0346 - val_mse: 0.0346\n",
      "Epoch 7/50\n",
      "10/10 [==============================] - 4s 420ms/step - loss: 0.0323 - mse: 0.0323 - val_loss: 0.0298 - val_mse: 0.0298\n",
      "Epoch 8/50\n",
      "10/10 [==============================] - 4s 424ms/step - loss: 0.0281 - mse: 0.0281 - val_loss: 0.0258 - val_mse: 0.0258\n",
      "Epoch 9/50\n",
      "10/10 [==============================] - 4s 443ms/step - loss: 0.0239 - mse: 0.0239 - val_loss: 0.0208 - val_mse: 0.0208\n",
      "Epoch 10/50\n",
      "10/10 [==============================] - 4s 418ms/step - loss: 0.0159 - mse: 0.0159 - val_loss: 0.0108 - val_mse: 0.0108\n",
      "Epoch 11/50\n",
      "10/10 [==============================] - 4s 413ms/step - loss: 0.0082 - mse: 0.0082 - val_loss: 0.0052 - val_mse: 0.0052\n",
      "Epoch 12/50\n",
      "10/10 [==============================] - 4s 431ms/step - loss: 0.0041 - mse: 0.0041 - val_loss: 0.0027 - val_mse: 0.0027\n",
      "Epoch 13/50\n",
      "10/10 [==============================] - 4s 437ms/step - loss: 0.0021 - mse: 0.0021 - val_loss: 0.0013 - val_mse: 0.0013\n",
      "Epoch 14/50\n",
      "10/10 [==============================] - 4s 405ms/step - loss: 0.0021 - mse: 0.0021 - val_loss: 0.0015 - val_mse: 0.0015\n",
      "Epoch 15/50\n",
      "10/10 [==============================] - 4s 406ms/step - loss: 0.0012 - mse: 0.0012 - val_loss: 7.4948e-04 - val_mse: 7.4948e-04\n",
      "Epoch 16/50\n",
      "10/10 [==============================] - 4s 442ms/step - loss: 5.8355e-04 - mse: 5.8355e-04 - val_loss: 4.3977e-04 - val_mse: 4.3977e-04\n",
      "Epoch 17/50\n",
      "10/10 [==============================] - 4s 427ms/step - loss: 3.0507e-04 - mse: 3.0507e-04 - val_loss: 2.5904e-04 - val_mse: 2.5904e-04\n",
      "Epoch 18/50\n",
      "10/10 [==============================] - 4s 430ms/step - loss: 1.7898e-04 - mse: 1.7898e-04 - val_loss: 1.3792e-04 - val_mse: 1.3792e-04\n",
      "Epoch 19/50\n",
      "10/10 [==============================] - 4s 414ms/step - loss: 1.0918e-04 - mse: 1.0918e-04 - val_loss: 8.1473e-05 - val_mse: 8.1473e-05\n",
      "Epoch 20/50\n",
      "10/10 [==============================] - 5s 471ms/step - loss: 7.0899e-05 - mse: 7.0899e-05 - val_loss: 5.6421e-05 - val_mse: 5.6421e-05\n",
      "Epoch 21/50\n",
      "10/10 [==============================] - 4s 441ms/step - loss: 5.0418e-05 - mse: 5.0418e-05 - val_loss: 4.3464e-05 - val_mse: 4.3464e-05\n",
      "Epoch 22/50\n",
      "10/10 [==============================] - 4s 432ms/step - loss: 3.8820e-05 - mse: 3.8820e-05 - val_loss: 3.4325e-05 - val_mse: 3.4325e-05\n",
      "Epoch 23/50\n",
      "10/10 [==============================] - 4s 384ms/step - loss: 3.1930e-05 - mse: 3.1930e-05 - val_loss: 2.9168e-05 - val_mse: 2.9168e-05\n",
      "Epoch 24/50\n",
      "10/10 [==============================] - 4s 456ms/step - loss: 2.7632e-05 - mse: 2.7632e-05 - val_loss: 2.5652e-05 - val_mse: 2.5652e-05\n",
      "Epoch 25/50\n",
      "10/10 [==============================] - 4s 422ms/step - loss: 2.4612e-05 - mse: 2.4612e-05 - val_loss: 2.3144e-05 - val_mse: 2.3144e-05\n",
      "Epoch 26/50\n",
      "10/10 [==============================] - 4s 414ms/step - loss: 2.2327e-05 - mse: 2.2327e-05 - val_loss: 2.1357e-05 - val_mse: 2.1357e-05\n",
      "Epoch 27/50\n",
      "10/10 [==============================] - 4s 413ms/step - loss: 2.0528e-05 - mse: 2.0528e-05 - val_loss: 1.9700e-05 - val_mse: 1.9700e-05\n",
      "Epoch 28/50\n",
      "10/10 [==============================] - 4s 425ms/step - loss: 1.8902e-05 - mse: 1.8902e-05 - val_loss: 1.8131e-05 - val_mse: 1.8131e-05\n",
      "Epoch 29/50\n",
      "10/10 [==============================] - 4s 440ms/step - loss: 1.7511e-05 - mse: 1.7511e-05 - val_loss: 1.6775e-05 - val_mse: 1.6775e-05\n",
      "Epoch 30/50\n",
      "10/10 [==============================] - 4s 419ms/step - loss: 1.6318e-05 - mse: 1.6318e-05 - val_loss: 1.5669e-05 - val_mse: 1.5669e-05\n",
      "Epoch 31/50\n",
      "10/10 [==============================] - 4s 422ms/step - loss: 1.5363e-05 - mse: 1.5363e-05 - val_loss: 1.4925e-05 - val_mse: 1.4925e-05\n",
      "Epoch 32/50\n",
      "10/10 [==============================] - 4s 422ms/step - loss: 1.4527e-05 - mse: 1.4527e-05 - val_loss: 1.3906e-05 - val_mse: 1.3906e-05\n",
      "Epoch 33/50\n",
      "10/10 [==============================] - 4s 417ms/step - loss: 1.3619e-05 - mse: 1.3619e-05 - val_loss: 1.3215e-05 - val_mse: 1.3215e-05\n",
      "Epoch 34/50\n",
      "10/10 [==============================] - 4s 439ms/step - loss: 1.2931e-05 - mse: 1.2931e-05 - val_loss: 1.2480e-05 - val_mse: 1.2480e-05\n",
      "Epoch 35/50\n",
      "10/10 [==============================] - 4s 432ms/step - loss: 1.2099e-05 - mse: 1.2099e-05 - val_loss: 1.1675e-05 - val_mse: 1.1675e-05\n",
      "Epoch 36/50\n",
      "10/10 [==============================] - 4s 421ms/step - loss: 1.1556e-05 - mse: 1.1556e-05 - val_loss: 1.1316e-05 - val_mse: 1.1316e-05\n",
      "Epoch 37/50\n",
      "10/10 [==============================] - 4s 416ms/step - loss: 1.1124e-05 - mse: 1.1124e-05 - val_loss: 1.0628e-05 - val_mse: 1.0628e-05\n",
      "Epoch 38/50\n",
      "10/10 [==============================] - 4s 420ms/step - loss: 1.0350e-05 - mse: 1.0350e-05 - val_loss: 9.9957e-06 - val_mse: 9.9957e-06\n",
      "Epoch 39/50\n",
      "10/10 [==============================] - 4s 450ms/step - loss: 9.7933e-06 - mse: 9.7933e-06 - val_loss: 9.4753e-06 - val_mse: 9.4753e-06\n",
      "Epoch 40/50\n",
      "10/10 [==============================] - 4s 406ms/step - loss: 9.2906e-06 - mse: 9.2906e-06 - val_loss: 9.0846e-06 - val_mse: 9.0846e-06\n",
      "Epoch 41/50\n",
      "10/10 [==============================] - 4s 404ms/step - loss: 8.8107e-06 - mse: 8.8107e-06 - val_loss: 8.5416e-06 - val_mse: 8.5416e-06\n",
      "Epoch 42/50\n",
      "10/10 [==============================] - 4s 415ms/step - loss: 8.3188e-06 - mse: 8.3188e-06 - val_loss: 8.2822e-06 - val_mse: 8.2822e-06\n",
      "Epoch 43/50\n",
      "10/10 [==============================] - 4s 438ms/step - loss: 7.8025e-06 - mse: 7.8025e-06 - val_loss: 7.5636e-06 - val_mse: 7.5636e-06\n",
      "Epoch 44/50\n",
      "10/10 [==============================] - 4s 407ms/step - loss: 7.2421e-06 - mse: 7.2421e-06 - val_loss: 6.8842e-06 - val_mse: 6.8842e-06\n",
      "Epoch 45/50\n",
      "10/10 [==============================] - 4s 405ms/step - loss: 6.6508e-06 - mse: 6.6508e-06 - val_loss: 6.7850e-06 - val_mse: 6.7850e-06\n",
      "Epoch 46/50\n",
      "10/10 [==============================] - 4s 418ms/step - loss: 6.2766e-06 - mse: 6.2766e-06 - val_loss: 5.9975e-06 - val_mse: 5.9975e-06\n",
      "Epoch 47/50\n",
      "10/10 [==============================] - 4s 449ms/step - loss: 5.9142e-06 - mse: 5.9142e-06 - val_loss: 5.8959e-06 - val_mse: 5.8959e-06\n",
      "Epoch 48/50\n",
      "10/10 [==============================] - 4s 409ms/step - loss: 5.4755e-06 - mse: 5.4755e-06 - val_loss: 5.3905e-06 - val_mse: 5.3905e-06\n",
      "Epoch 49/50\n",
      "10/10 [==============================] - 4s 402ms/step - loss: 5.2472e-06 - mse: 5.2472e-06 - val_loss: 5.3108e-06 - val_mse: 5.3108e-06\n",
      "Epoch 50/50\n",
      "10/10 [==============================] - 4s 434ms/step - loss: 4.9919e-06 - mse: 4.9919e-06 - val_loss: 4.8722e-06 - val_mse: 4.8722e-06\n"
     ]
    }
   ],
   "source": [
    "# Train model (note Y labels are same as inputs, X)\n",
    "from tabnanny import verbose\n",
    "\n",
    "history = model.fit(x_train,\n",
    "                   x_train,\n",
    "                   epochs=50,\n",
    "                   batch_size=32,\n",
    "                   validation_split=0.1,\n",
    "                   validation_data=(x_val, x_val),\n",
    "                   verbose = 1)"
   ]
  },
  {
   "cell_type": "code",
   "execution_count": 45,
   "metadata": {},
   "outputs": [
    {
     "name": "stdout",
     "output_type": "stream",
     "text": [
      "4/4 [==============================] - 0s 54ms/step - loss: 4.9231e-06 - mse: 4.9231e-06\n",
      "Test accuracy 4.923056167172035e-06\n",
      "Test loss 4.923056167172035e-06\n"
     ]
    }
   ],
   "source": [
    "test_loss, test_acc = model.evaluate(x_test, x_test)\n",
    "\n",
    "print(\"Test accuracy\", test_acc)\n",
    "print(\"Test loss\", test_loss)"
   ]
  },
  {
   "cell_type": "code",
   "execution_count": 46,
   "metadata": {},
   "outputs": [
    {
     "data": {
      "image/png": "[encoded data removed]",
      "text/plain": [
       "<Figure size 640x480 with 1 Axes>"
      ]
     },
     "metadata": {},
     "output_type": "display_data"
    }
   ],
   "source": [
    "# Plot results\n",
    "loss = history.history['loss']\n",
    "val_loss = history.history['val_loss']\n",
    "epochs = range(1, len(loss) + 1)\n",
    "plt.figure()\n",
    "plt.plot(epochs, loss, 'bo', label='Training loss')\n",
    "plt.plot(epochs, val_loss, 'b', label='Validation loss')\n",
    "plt.title('Training and validation loss')\n",
    "plt.legend()\n",
    "plt.show()"
   ]
  },
  {
   "cell_type": "code",
   "execution_count": 47,
   "metadata": {},
   "outputs": [
    {
     "name": "stdout",
     "output_type": "stream",
     "text": [
      "4/4 [==============================] - 1s 56ms/step\n",
      "Average MSE for normal validation set: 4.872228661998251e-06\n",
      "Standard deviation of MSE for normal validation set: 2.082071893875295e-06\n",
      "Recommended threshold (3x std dev + avg): 1.1118444343624137e-05\n"
     ]
    },
    {
     "data": {
      "text/plain": [
       "(array([[10., 26., 12., 12., 10.,  3.,  7., 10.,  3.,  3.,  3.,  2.,  1.,\n",
       "          0.,  0.,  1.,  0.,  1.,  0.,  1.],\n",
       "        [ 0.,  0.,  0.,  0.,  0.,  0.,  0.,  6.,  6., 15., 24., 19., 17.,\n",
       "         12.,  3.,  3.,  0.,  0.,  0.,  0.],\n",
       "        [ 1.,  0., 13., 17., 28., 18., 10.,  8.,  6.,  3.,  0.,  0.,  0.,\n",
       "          0.,  0.,  1.,  0.,  0.,  0.,  0.]]),\n",
       " array([1.32424037e-06, 1.83545389e-06, 2.34666741e-06, 2.85788093e-06,\n",
       "        3.36909445e-06, 3.88030797e-06, 4.39152149e-06, 4.90273501e-06,\n",
       "        5.41394853e-06, 5.92516204e-06, 6.43637556e-06, 6.94758908e-06,\n",
       "        7.45880260e-06, 7.97001612e-06, 8.48122964e-06, 8.99244316e-06,\n",
       "        9.50365668e-06, 1.00148702e-05, 1.05260837e-05, 1.10372972e-05,\n",
       "        1.15485108e-05]),\n",
       " <a list of 3 BarContainer objects>)"
      ]
     },
     "execution_count": 47,
     "metadata": {},
     "output_type": "execute_result"
    },
    {
     "data": {
      "image/png": "[encoded data removed]",
      "text/plain": [
       "<Figure size 640x480 with 1 Axes>"
      ]
     },
     "metadata": {},
     "output_type": "display_data"
    }
   ],
   "source": [
    "# Calculate MSE from validation set\n",
    "predictions = model.predict(x_val)\n",
    "normal_mse = np.mean(np.power(x_val - predictions, 2), axis=1)\n",
    "print('Average MSE for normal validation set:', np.average(normal_mse))\n",
    "print('Standard deviation of MSE for normal validation set:', np.std(normal_mse))\n",
    "print('Recommended threshold (3x std dev + avg):', (3*np.std(normal_mse)) + np.average(normal_mse))\n",
    "fig, ax = plt.subplots(1,1)\n",
    "ax.hist(normal_mse, bins=20, label='normal', color=['blue', 'blue', 'blue'] ,alpha=0.7)"
   ]
  },
  {
   "cell_type": "code",
   "execution_count": 48,
   "metadata": {},
   "outputs": [
    {
     "name": "stdout",
     "output_type": "stream",
     "text": [
      "Extracted features from anomaly set. Shape: (105, 32, 3)\n"
     ]
    }
   ],
   "source": [
    "# Extract features from anomaly test set (truncate to length of X test set)\n",
    "anomaly_ops_trunc = anomaly_op_filenames[0:len(normal_mse)]\n",
    "anomaly_features = create_sequences(anomaly_ops_trunc)\n",
    "print('Extracted features from anomaly set. Shape:', anomaly_features.shape)"
   ]
  },
  {
   "cell_type": "code",
   "execution_count": 49,
   "metadata": {},
   "outputs": [
    {
     "name": "stdout",
     "output_type": "stream",
     "text": [
      "4/4 [==============================] - 0s 49ms/step\n",
      "Average MSE for for anomaly test set: 0.009439004785225505\n"
     ]
    },
    {
     "data": {
      "text/plain": [
       "(array([[ 0.,  0., 15., 38., 35.,  1.,  1.,  0.,  0.,  0.,  0.,  8.,  7.,\n",
       "          0.,  0.,  0.,  0.,  0.,  0.,  0.],\n",
       "        [ 0.,  0.,  0.,  0.,  0.,  0.,  0.,  0., 15., 23.,  6.,  1., 19.,\n",
       "         11., 14.,  1.,  0.,  3., 11.,  1.],\n",
       "        [24., 56., 10.,  0.,  0.,  1.,  7.,  5.,  2.,  0.,  0.,  0.,  0.,\n",
       "          0.,  0.,  0.,  0.,  0.,  0.,  0.]]),\n",
       " array([0.00447546, 0.00523689, 0.00599832, 0.00675975, 0.00752118,\n",
       "        0.00828261, 0.00904404, 0.00980547, 0.0105669 , 0.01132833,\n",
       "        0.01208976, 0.01285119, 0.01361262, 0.01437405, 0.01513548,\n",
       "        0.01589691, 0.01665834, 0.01741977, 0.0181812 , 0.01894263,\n",
       "        0.01970406]),\n",
       " <a list of 3 BarContainer objects>)"
      ]
     },
     "execution_count": 49,
     "metadata": {},
     "output_type": "execute_result"
    },
    {
     "data": {
      "image/png": "[encoded data removed]",
      "text/plain": [
       "<Figure size 640x480 with 1 Axes>"
      ]
     },
     "metadata": {},
     "output_type": "display_data"
    }
   ],
   "source": [
    "# Calculate MSE from anomaly set\n",
    "predictions = model.predict(anomaly_features)\n",
    "anomaly_mse = np.mean(np.power(anomaly_features - predictions, 2), axis=1)\n",
    "print('Average MSE for for anomaly test set:', np.average(anomaly_mse))\n",
    "\n",
    "# Plot histograms of normal validation vs. anomaly sets (MSEs)\n",
    "fig, ax = plt.subplots(1,1)\n",
    "plt.xscale(\"log\")\n",
    "ax.hist(normal_mse, bins=20, label='normal', color=['blue', 'cyan', 'darkblue'], alpha=0.7)\n",
    "ax.hist(anomaly_mse, bins=20, label='anomaly', color=['red', 'orange', 'pink'], alpha=0.7)"
   ]
  },
  {
   "cell_type": "code",
   "execution_count": 50,
   "metadata": {},
   "outputs": [
    {
     "name": "stdout",
     "output_type": "stream",
     "text": [
      "4/4 [==============================] - 0s 49ms/step\n",
      "Average MSE for normal test set: 4.923056101348393e-06\n"
     ]
    },
    {
     "data": {
      "text/plain": [
       "(array([[ 0.,  0., 15., 38., 35.,  1.,  1.,  0.,  0.,  0.,  0.,  8.,  7.,\n",
       "          0.,  0.,  0.,  0.,  0.,  0.,  0.],\n",
       "        [ 0.,  0.,  0.,  0.,  0.,  0.,  0.,  0., 15., 23.,  6.,  1., 19.,\n",
       "         11., 14.,  1.,  0.,  3., 11.,  1.],\n",
       "        [24., 56., 10.,  0.,  0.,  1.,  7.,  5.,  2.,  0.,  0.,  0.,  0.,\n",
       "          0.,  0.,  0.,  0.,  0.,  0.,  0.]]),\n",
       " array([0.00447546, 0.00523689, 0.00599832, 0.00675975, 0.00752118,\n",
       "        0.00828261, 0.00904404, 0.00980547, 0.0105669 , 0.01132833,\n",
       "        0.01208976, 0.01285119, 0.01361262, 0.01437405, 0.01513548,\n",
       "        0.01589691, 0.01665834, 0.01741977, 0.0181812 , 0.01894263,\n",
       "        0.01970406]),\n",
       " <a list of 3 BarContainer objects>)"
      ]
     },
     "execution_count": 50,
     "metadata": {},
     "output_type": "execute_result"
    },
    {
     "data": {
      "image/png": "[encoded data removed]",
      "text/plain": [
       "<Figure size 640x480 with 1 Axes>"
      ]
     },
     "metadata": {},
     "output_type": "display_data"
    }
   ],
   "source": [
    "# Look at separation using test set\n",
    "predictions = model.predict(x_test)\n",
    "normal_mse = np.mean(np.power(x_test - predictions, 2), axis=1)\n",
    "print('Average MSE for normal test set:', np.average(normal_mse))\n",
    "\n",
    "# Plot histograms of normal test vs. anomaly sets (MSEs)\n",
    "fig, ax = plt.subplots(1,1)\n",
    "plt.xscale(\"log\")\n",
    "ax.hist(normal_mse, bins=20, label='normal', color=['blue', 'cyan', 'darkblue'], alpha=0.7)\n",
    "ax.hist(anomaly_mse, bins=20, label='anomaly', color=['red', 'orange', 'pink'], alpha=0.7)"
   ]
  },
  {
   "cell_type": "code",
   "execution_count": 51,
   "metadata": {},
   "outputs": [],
   "source": [
    "# If we're happy with the performance, save the model\n",
    "model.save(keras_model_name + '.h5')"
   ]
  },
  {
   "cell_type": "code",
   "execution_count": 52,
   "metadata": {},
   "outputs": [],
   "source": [
    "# Create a classifier (0 = normal, 1 = anomaly)\n",
    "def detect_anomaly(x, model, threshold=0):\n",
    "    pred = model.predict(x)\n",
    "    mse = np.mean(np.power(x - pred, 2), axis=1)\n",
    "    return mse > threshold"
   ]
  },
  {
   "cell_type": "code",
   "execution_count": 53,
   "metadata": {},
   "outputs": [
    {
     "name": "stdout",
     "output_type": "stream",
     "text": [
      "4/4 [==============================] - 0s 57ms/step\n",
      "[0, 0, 0, 0, 0, 0, 0, 0, 0, 0, 0, 0, 0, 0, 0, 0, 0, 0, 0, 0, 0, 0, 0, 0, 0, 0, 0, 0, 0, 0, 0, 0, 0, 0, 0, 0, 0, 0, 0, 0, 0, 0, 0, 0, 0, 0, 0, 0, 0, 0, 0, 0, 0, 0, 0, 0, 0, 0, 0, 0, 0, 0, 0, 0, 0, 0, 0, 0, 0, 0, 0, 0, 0, 0, 0, 0, 0, 0, 0, 0, 0, 0, 0, 0, 0, 0, 0, 0, 0, 0, 0, 0, 0, 0, 0, 0, 0, 0, 0, 0, 0, 0, 0, 0, 0]\n"
     ]
    }
   ],
   "source": [
    "# Choose a threshold\n",
    "anomaly_threshold = 8.e-04\n",
    "# Perform classification on test set\n",
    "pred_test = detect_anomaly(x_test, model, anomaly_threshold)\n",
    "test_bool = []\n",
    "for test in pred_test:\n",
    "    true_anomaly = 0\n",
    "    for value in test:\n",
    "        if(int(value)):\n",
    "            true_anomaly = 1\n",
    "    test_bool.append(true_anomaly)\n",
    "\n",
    "print(test_bool)"
   ]
  },
  {
   "cell_type": "code",
   "execution_count": 54,
   "metadata": {},
   "outputs": [
    {
     "name": "stdout",
     "output_type": "stream",
     "text": [
      "4/4 [==============================] - 0s 51ms/step\n",
      "[1, 1, 1, 1, 1, 1, 1, 1, 1, 1, 1, 1, 1, 1, 1, 1, 1, 1, 1, 1, 1, 1, 1, 1, 1, 1, 1, 1, 1, 1, 1, 1, 1, 1, 1, 1, 1, 1, 1, 1, 1, 1, 1, 1, 1, 1, 1, 1, 1, 1, 1, 1, 1, 1, 1, 1, 1, 1, 1, 1, 1, 1, 1, 1, 1, 1, 1, 1, 1, 1, 1, 1, 1, 1, 1, 1, 1, 1, 1, 1, 1, 1, 1, 1, 1, 1, 1, 1, 1, 1, 1, 1, 1, 1, 1, 1, 1, 1, 1, 1, 1, 1, 1, 1, 1]\n"
     ]
    }
   ],
   "source": [
    "# Perform classification on anomaly set\n",
    "pred_anomaly = detect_anomaly(anomaly_features, model, anomaly_threshold)\n",
    "anomaly_bool = []\n",
    "for anomaly in pred_anomaly:\n",
    "    true_anomaly = 0\n",
    "    for value in anomaly:\n",
    "        if(int(value)):\n",
    "            true_anomaly = 1\n",
    "    anomaly_bool.append(true_anomaly)\n",
    "\n",
    "print(anomaly_bool)"
   ]
  },
  {
   "cell_type": "code",
   "execution_count": 55,
   "metadata": {},
   "outputs": [],
   "source": [
    "# Combine predictions into one long list and create a label list\n",
    "pred = np.array(test_bool + anomaly_bool)\n",
    "labels = ([0] * len(test_bool)) + ([1] * len(anomaly_bool))"
   ]
  },
  {
   "cell_type": "code",
   "execution_count": 56,
   "metadata": {},
   "outputs": [
    {
     "name": "stdout",
     "output_type": "stream",
     "text": [
      "[[105   0]\n",
      " [  0 105]]\n"
     ]
    },
    {
     "data": {
      "text/plain": [
       "Text(50.722222222222214, 0.5, 'Actual')"
      ]
     },
     "execution_count": 56,
     "metadata": {},
     "output_type": "execute_result"
    },
    {
     "data": {
      "image/png": "[encoded data removed]",
      "text/plain": [
       "<Figure size 640x480 with 2 Axes>"
      ]
     },
     "metadata": {},
     "output_type": "display_data"
    }
   ],
   "source": [
    "# Create confusion matrix\n",
    "cm = confusion_matrix(labels, pred)\n",
    "print(cm)\n",
    "# Make confusion matrix pretty\n",
    "df_cm = pd.DataFrame(cm, index=['normal', 'anomaly'], columns=['normal', 'anomaly'])\n",
    "plt.figure()\n",
    "sn.heatmap(df_cm, annot=True)\n",
    "plt.title('Confusion Matrix')\n",
    "plt.xlabel('Prediction')\n",
    "plt.ylabel('Actual')"
   ]
  }
 ],
 "metadata": {
  "kernelspec": {
   "display_name": "Python 3.10.6 64-bit",
   "language": "python",
   "name": "python3"
  },
  "language_info": {
   "codemirror_mode": {
    "name": "ipython",
    "version": 3
   },
   "file_extension": ".py",
   "mimetype": "text/x-python",
   "name": "python",
   "nbconvert_exporter": "python",
   "pygments_lexer": "ipython3",
   "version": "3.9.13"
  },
  "vscode": {
   "interpreter": {
    "hash": "72dbf09e9dcc1083b9e83a863bbb442aaf8d8885a2d87cb25ca28ecf79dfaebb"
   }
  }
 },
 "nbformat": 4,
 "nbformat_minor": 4
}
