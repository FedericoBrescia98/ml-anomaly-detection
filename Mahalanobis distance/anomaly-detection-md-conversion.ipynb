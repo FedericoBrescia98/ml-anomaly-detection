{
 "cells": [
  {
   "attachments": {},
   "cell_type": "markdown",
   "metadata": {},
   "source": [
    "C Conversion\n",
    "---\n",
    "All we need to do to convert our Mahalanobis Distance model to C is to save the mean vector and inverse of the covariance matrix as constant arrays."
   ]
  },
  {
   "cell_type": "code",
   "execution_count": 17,
   "metadata": {},
   "outputs": [],
   "source": [
    "from os import listdir\n",
    "from os.path import join\n",
    "import numpy as np\n",
    "import scipy as sp\n",
    "from scipy import stats\n",
    "import c_writer"
   ]
  },
  {
   "cell_type": "code",
   "execution_count": 19,
   "metadata": {},
   "outputs": [],
   "source": [
    "# Settings (define file locations)\n",
    "models_path = 'models'  # Where we can find the model files (relative path location)\n",
    "md_file_name = 'md_model-steady'   # Mahalanobis Distance model arrays (.npz will be added)\n",
    "c_model_name = 'md_model-steady'   # Will be given .h suffix\n",
    "\n",
    "c_mean_name = 'model_mu'\n",
    "c_inv_cov_name = 'model_inv_cov'"
   ]
  },
  {
   "cell_type": "code",
   "execution_count": 20,
   "metadata": {},
   "outputs": [
    {
     "name": "stdout",
     "output_type": "stream",
     "text": [
      "[0.00067966 0.00066138 0.00080888]\n",
      "[[5.13535666e-09 6.07580327e-10 2.69495019e-11]\n",
      " [6.07580327e-10 5.05294802e-09 1.30720871e-09]\n",
      " [2.69495019e-11 1.30720871e-09 1.10838602e-08]]\n"
     ]
    }
   ],
   "source": [
    "# Load model\n",
    "with np.load(join(models_path, md_file_name) + '.npz') as data:\n",
    "    model_mu = data['model_mu']\n",
    "    model_cov = data['model_cov']\n",
    "print(model_mu)\n",
    "print(model_cov)"
   ]
  },
  {
   "cell_type": "code",
   "execution_count": 21,
   "metadata": {},
   "outputs": [
    {
     "name": "stdout",
     "output_type": "stream",
     "text": [
      "[[ 1.97600296e+08 -2.43795484e+07  2.39482708e+06]\n",
      " [-2.43795484e+07  2.07140427e+08 -2.43704583e+07]\n",
      " [ 2.39482708e+06 -2.43704583e+07  9.30896561e+07]]\n"
     ]
    }
   ],
   "source": [
    "# Calculate inverse of covariance matrix (as it's constant)\n",
    "inv_cov = sp.linalg.inv(model_cov)\n",
    "print(inv_cov)"
   ]
  },
  {
   "cell_type": "code",
   "execution_count": 22,
   "metadata": {},
   "outputs": [],
   "source": [
    "# Create constant C arrays for model (mu and inverse covariance)\n",
    "c_mu = c_writer.create_array(model_mu, 'float', c_mean_name)\n",
    "c_inv_cov = c_writer.create_array(inv_cov, 'float', c_inv_cov_name)"
   ]
  },
  {
   "cell_type": "code",
   "execution_count": 23,
   "metadata": {},
   "outputs": [
    {
     "name": "stdout",
     "output_type": "stream",
     "text": [
      "#ifndef MD_MODEL-STEADY_H\n",
      "#define MD_MODEL-STEADY_H\n",
      "\n",
      "const unsigned int model_mu_dim1 = 3;\n",
      "\n",
      "const float model_mu[3] = {\n",
      "    0.000679659305993691, 0.0006613785488958986, 0.0008088753943217653\n",
      "};\n",
      "\n",
      "const unsigned int model_inv_cov_dim1 = 3;\n",
      "const unsigned int model_inv_cov_dim2 = 3;\n",
      "\n",
      "const float model_inv_cov[3][3] = {\n",
      "    197600295.65531713, -24379548.446011353, 2394827.077276792, \n",
      "    -24379548.446011353, 207140426.82222793, -24370458.342991024, \n",
      "    2394827.0772767914, -24370458.342991017, 93089656.12940083\n",
      "};\n",
      "\n",
      "#endif //MD_MODEL-STEADY_H\n"
     ]
    }
   ],
   "source": [
    "# Construct header file\n",
    "header_str = c_writer.create_header(c_mu + '\\n' + c_inv_cov, c_model_name)\n",
    "print(header_str)"
   ]
  },
  {
   "cell_type": "code",
   "execution_count": 24,
   "metadata": {},
   "outputs": [],
   "source": [
    "# Save C header file\n",
    "with open(join(models_path, c_model_name) + '.h', 'w') as file:\n",
    "    file.write(header_str)"
   ]
  },
  {
   "attachments": {},
   "cell_type": "markdown",
   "metadata": {},
   "source": [
    "Save Samples for Testing\n",
    "---\n",
    "Convert raw sample to constant C array for testing."
   ]
  },
  {
   "cell_type": "code",
   "execution_count": 25,
   "metadata": {},
   "outputs": [],
   "source": [
    "# Saved Numpy test samples file location\n",
    "sample_file_path = 'test_samples'\n",
    "sample_file_name = 'normal_anomaly_samples'  # Will be given .npz suffix\n",
    "c_normal_sample_name = 'normal_sample'       # Will be given .h suffix for file\n",
    "c_anomaly_sample_name = 'anomaly_sample'     # Will be given .h suffix for file"
   ]
  },
  {
   "cell_type": "code",
   "execution_count": 26,
   "metadata": {},
   "outputs": [
    {
     "name": "stdout",
     "output_type": "stream",
     "text": [
      "(200, 3)\n",
      "(200, 3)\n",
      "[[0.056425 0.041053 0.992775]\n",
      " [0.055632 0.042395 0.989115]\n",
      " [0.057096 0.041175 0.990152]\n",
      " [0.05673  0.041175 0.988749]\n",
      " [0.053436 0.042212 0.991677]]\n",
      "[[ 0.015625  0.23584   0.975098]\n",
      " [-0.040527  0.192383  0.966797]\n",
      " [ 0.006836  0.212891  0.984375]\n",
      " [-0.027344  0.196289  0.973633]\n",
      " [-0.008789  0.212891  0.986816]]\n"
     ]
    }
   ],
   "source": [
    "# Load test samples\n",
    "with np.load(join(sample_file_path, sample_file_name) + '.npz') as data:\n",
    "    normal_sample = data['normal_sample']\n",
    "    anomaly_sample = data['anomaly_sample']\n",
    "print(normal_sample.shape)\n",
    "print(anomaly_sample.shape)\n",
    "print(normal_sample[:5])\n",
    "print(anomaly_sample[:5])"
   ]
  },
  {
   "cell_type": "code",
   "execution_count": 27,
   "metadata": {},
   "outputs": [],
   "source": [
    "# Create C array out of normal sample\n",
    "c_sample = c_writer.create_array(normal_sample, 'float', c_normal_sample_name)\n",
    "header_str = c_writer.create_header(c_sample, c_normal_sample_name)\n",
    "#print(header_str)"
   ]
  },
  {
   "cell_type": "code",
   "execution_count": 28,
   "metadata": {},
   "outputs": [],
   "source": [
    "# Save C header file with normal sample\n",
    "with open(join(sample_file_path, c_normal_sample_name) + '.h', 'w') as file:\n",
    "    file.write(header_str)"
   ]
  },
  {
   "cell_type": "code",
   "execution_count": 29,
   "metadata": {
    "scrolled": true
   },
   "outputs": [
    {
     "name": "stdout",
     "output_type": "stream",
     "text": [
      "#ifndef ANOMALY_SAMPLE_H\n",
      "#define ANOMALY_SAMPLE_H\n",
      "\n",
      "const unsigned int anomaly_sample_dim1 = 200;\n",
      "const unsigned int anomaly_sample_dim2 = 3;\n",
      "\n",
      "const float anomaly_sample[200][3] = {\n",
      "    0.015625, 0.23584, 0.975098, -0.040527, 0.192383, 0.966797, 0.006836, \n",
      "    0.212891, 0.984375, -0.027344, 0.196289, 0.973633, -0.008789, 0.212891, \n",
      "    0.986816, -0.004883, 0.216309, 0.973633, -0.031738, 0.192383, 0.977539, \n",
      "    0.021484, 0.233398, 0.98877, -0.033691, 0.188477, 0.97168, 0.005371, \n",
      "    0.20752, 0.966309, -0.02002, 0.222168, 0.993164, -0.043457, 0.186035, \n",
      "    0.976563, -0.002441, 0.210449, 0.984375, -0.018555, 0.199707, 0.966309, \n",
      "    -0.018555, 0.202637, 0.980469, 0.014648, 0.237305, 0.985352, -0.041992, \n",
      "    0.182129, 0.97168, 0.005371, 0.217285, 0.980469, -0.021484, 0.193359, \n",
      "    0.978027, 0.000977, 0.208984, 0.985352, -0.005371, 0.213867, 0.981445, \n",
      "    -0.030273, 0.189453, 0.975098, 0.013184, 0.23291, 0.993652, -0.030273, \n",
      "    0.188965, 0.98291, 0.005371, 0.212891, 0.972168, 0.009766, 0.229492, \n",
      "    0.983887, -0.031738, 0.178223, 0.969238, 0.006836, 0.208496, 0.983887, \n",
      "    -0.018555, 0.202148, 0.973145, -0.01709, 0.204102, 0.983398, 0.002441, \n",
      "    0.225586, 0.98584, -0.041504, 0.186523, 0.972656, 0.011719, 0.226563, \n",
      "    0.989746, -0.033203, 0.191895, 0.974121, 0.002441, 0.207031, 0.982422, \n",
      "    -0.009766, 0.209473, 0.972168, -0.026855, 0.198242, 0.973633, 0.008301, \n",
      "    0.233887, 0.984375, -0.041992, 0.212891, 0.978027, -0.022949, 0.191895, \n",
      "    0.979004, 0.019531, 0.23584, 0.993652, -0.035156, 0.188965, 0.966797, \n",
      "    0.007324, 0.217285, 0.979981, -0.012207, 0.20166, 0.969727, -0.010254, \n",
      "    0.201172, 0.995606, 0.000488, 0.220703, 0.977539, -0.037109, 0.183105, \n",
      "    0.975098, 0.017578, 0.229004, 0.983887, -0.032715, 0.19043, 0.973633, \n",
      "    -0.002441, 0.208008, 0.977051, -0.014648, 0.202637, 0.970703, -0.01709, \n",
      "    0.19873, 0.952148, 0.003906, 0.199219, 0.986816, -0.01123, 0.205078, \n",
      "    0.96582, -0.021973, 0.200195, 0.978027, 0.015137, 0.228516, 0.987793, \n",
      "    -0.040039, 0.186523, 0.967773, 0.002441, 0.215332, 0.991699, -0.020508, \n",
      "    0.191406, 0.973145, -0.006348, 0.199219, 0.983887, -0.007813, 0.211426, \n",
      "    0.977051, -0.034668, 0.188477, 0.977539, 0.019531, 0.233398, 0.992188, \n",
      "    -0.029297, 0.186523, 0.978027, -0.003418, 0.216797, 0.98291, -0.013672, \n",
      "    0.199707, 0.970703, -0.019531, 0.175293, 0.972168, -0.026855, 0.208984, \n",
      "    0.981934, -0.01416, 0.20459, 0.972656, -0.015137, 0.206543, 0.978027, \n",
      "    0.015625, 0.22998, 0.981934, -0.043457, 0.186035, 0.963867, 0.005859, \n",
      "    0.220703, 0.981445, -0.019531, 0.188965, 0.976563, -0.007324, 0.214355, \n",
      "    0.990234, -0.007813, 0.20752, 0.970215, -0.039063, 0.193848, 0.982422, \n",
      "    0.020508, 0.227539, 0.98584, -0.034668, 0.189453, 0.973633, -0.000488, \n",
      "    0.220703, 0.987793, -0.016602, 0.22168, 0.986816, -0.044922, 0.183105, \n",
      "    0.967285, 0.000977, 0.222168, 0.982422, -0.016602, 0.194336, 0.969238, \n",
      "    -0.014648, 0.216797, 0.986816, 0.015625, 0.214355, 0.982422, -0.049805, \n",
      "    0.184082, 0.96875, 0.013184, 0.232422, 0.986816, -0.024414, 0.188965, \n",
      "    0.96582, 0.002441, 0.223145, 0.989746, -0.003418, 0.204102, 0.970215, \n",
      "    -0.035156, 0.202148, 0.977051, 0.01709, 0.229004, 0.984863, -0.041504, \n",
      "    0.184082, 0.993652, 0.003418, 0.188965, 0.970215, 0.007813, 0.236328, \n",
      "    0.994141, -0.038086, 0.180664, 0.973633, 0.005371, 0.218262, 0.985352, \n",
      "    -0.022949, 0.196289, 0.967285, -0.01709, 0.207031, 0.984863, 0.015137, \n",
      "    0.215332, 0.981445, -0.050781, 0.179199, 0.973145, 0.010742, 0.225098, \n",
      "    0.992676, -0.030762, 0.180664, 0.980957, 0.000977, 0.212891, 0.989746, \n",
      "    -0.004395, 0.205566, 0.976074, -0.024414, 0.205566, 0.981934, 0.018066, \n",
      "    0.230957, 0.98584, -0.039063, 0.187988, 0.965332, 0.008301, 0.195313, \n",
      "    0.970215, 0.019043, 0.233398, 0.988281, -0.036133, 0.192383, 0.968262, \n",
      "    0.009277, 0.214355, 0.978516, -0.023438, 0.195313, 0.972656, -0.010254, \n",
      "    0.209961, 0.980469, 0.000977, 0.221191, 0.979981, -0.04541, 0.183594, \n",
      "    0.979004, 0.012695, 0.223633, 0.987305, -0.030762, 0.189453, 0.969238, \n",
      "    0.004883, 0.215332, 0.984375, -0.018066, 0.193359, 0.96875, -0.024902, \n",
      "    0.202148, 0.947754, 0.005859, 0.194824, 0.984375, -0.043457, 0.200195, \n",
      "    0.965332, -0.023438, 0.187988, 0.976074, 0.023926, 0.23877, 0.98877, \n",
      "    -0.039551, 0.182129, 0.979981, 0.004395, 0.208984, 0.978516, -0.023438, \n",
      "    0.193848, 0.973633, -0.001953, 0.203613, 1.00293, 0.001953, 0.21875, \n",
      "    0.98291, -0.038574, 0.186523, 0.972168, 0.020996, 0.235352, 0.991211, \n",
      "    -0.032227, 0.189941, 0.969238, 0.001953, 0.217773, 0.974609, -0.020508, \n",
      "    0.197754, 0.995606, -0.013672, 0.201172, 0.974121, 0.006836, 0.213379, \n",
      "    0.975098, -0.014648, 0.19873, 0.96875, -0.021484, 0.202148, 0.976563, \n",
      "    0.008301, 0.230469, 0.990723, -0.040527, 0.188965, 0.973633, 0.011719, \n",
      "    0.216309, 0.979492, -0.023438, 0.191406, 0.974609, -0.001953, 0.207031, \n",
      "    0.980469, -0.009277, 0.210449, 0.976074, -0.036133, 0.187988, 0.981934, \n",
      "    0.019043, 0.226074, 1.002441, -0.036133, 0.182129, 0.973145, 0.010742, \n",
      "    0.212891, 0.994629, -0.022949, 0.195801, 0.992188, -0.007813, 0.187012, \n",
      "    0.961914, 0.005859, 0.21875, 0.976563, -0.012695, 0.201172, 0.960449, \n",
      "    -0.020508, 0.193848, 0.972656, 0.006836, 0.230957, 0.975586, -0.040527, \n",
      "    0.188477, 0.975586, 0.010742, 0.225586, 0.981445, -0.022461, 0.194336, \n",
      "    0.972656, 0.001953, 0.209473, 0.988281, -0.005859, 0.213379, 0.973145, \n",
      "    -0.030762, 0.186523, 0.97168, 0.011719, 0.227051, 0.990723, -0.037109, \n",
      "    0.188965, 0.979981, 0.007324, 0.21582, 0.97168, -0.025879, 0.226563, \n",
      "    0.982422, -0.03418, 0.188965, 0.979981, 0.006348, 0.212891, 0.991211, \n",
      "    -0.021973, 0.192383, 0.973145, -0.013184, 0.200684, 0.982422, 0.006348, \n",
      "    0.227051, 0.984375, -0.035156, 0.19043, 0.974609, 0.01416, 0.227539, \n",
      "    0.985352, -0.030273, 0.188965, 0.976074, 0.001953, 0.216797, 0.984863, \n",
      "    -0.01123, 0.20459, 0.98291, -0.024902, 0.194824, 0.981445, 0.01416, \n",
      "    0.228027, 0.983398, -0.038086, 0.188965, 0.967773, 0.008789, 0.19043, \n",
      "    0.968262, 0.015625, 0.228516, 0.980469, -0.035645, 0.182617, 0.96582, \n",
      "    0.007813, 0.218262, 0.985352, -0.025391, 0.193848, 0.974121, -0.012207, \n",
      "    0.209473, 0.987305, 0.000977, 0.219727, 0.979004, -0.033203, 0.186523, \n",
      "    0.972656, 0.019531, 0.23291, 0.991699, -0.027832, 0.185547, 0.970703, \n",
      "    0.000488, 0.219727, 0.991211, -0.015137, 0.188965, 0.978027, -0.023926, \n",
      "    0.20166, 0.984375, 0.011719, 0.224609, 0.983887, -0.040039, 0.204102, \n",
      "    0.969727, -0.019043, 0.190918, 0.969238, 0.01416, 0.226563, 0.976563, \n",
      "    -0.041992, 0.187988, 0.972168, 0.008789, 0.224609, 0.992676, -0.021484, \n",
      "    0.182129, 0.972168, -0.005371, 0.21875, 0.990234\n",
      "};\n",
      "\n",
      "#endif //ANOMALY_SAMPLE_H\n"
     ]
    }
   ],
   "source": [
    "# Create C array out of anomaly sample\n",
    "c_sample = c_writer.create_array(anomaly_sample, 'float', c_anomaly_sample_name)\n",
    "header_str = c_writer.create_header(c_sample, c_anomaly_sample_name)\n",
    "print(header_str)"
   ]
  },
  {
   "cell_type": "code",
   "execution_count": 30,
   "metadata": {},
   "outputs": [],
   "source": [
    "# Save C header file with normal sample\n",
    "with open(join(sample_file_path, c_anomaly_sample_name) + '.h', 'w') as file:\n",
    "    file.write(header_str)"
   ]
  },
  {
   "attachments": {},
   "cell_type": "markdown",
   "metadata": {},
   "source": [
    "Develop C functions\n",
    "---\n",
    "We don't have access to an easy/efficient library for calculating the Mahalanobis Distance in C, so we need to write a few functions from scratch. It's easiest to get the algorithms down in Python first so we can compare the output from a few samples to known good algorithms."
   ]
  },
  {
   "cell_type": "code",
   "execution_count": 31,
   "metadata": {},
   "outputs": [],
   "source": [
    "# Set some settings to test out our functions\n",
    "sensor_sample_rate = 200    # Hz\n",
    "sample_time = 0.64           # Time (sec) length of each sample\n",
    "max_measurements = int(sample_time * sensor_sample_rate)"
   ]
  },
  {
   "cell_type": "code",
   "execution_count": 32,
   "metadata": {},
   "outputs": [
    {
     "name": "stdout",
     "output_type": "stream",
     "text": [
      "[0.000671 0.00061  0.000854]\n"
     ]
    }
   ],
   "source": [
    "# Test extracting features (median absolute deviation) using SciPy\n",
    "sample = normal_sample[0:max_measurements]                  # Truncate to 128 measurements\n",
    "sp_test_features = stats.median_abs_deviation(sample)  # Calculate MAD\n",
    "print(sp_test_features)"
   ]
  },
  {
   "cell_type": "code",
   "execution_count": 33,
   "metadata": {},
   "outputs": [],
   "source": [
    "# Find median in an array (we'll use qsort in C)\n",
    "# We want to calculate MAD in a C-like fashion to make it easier to port\n",
    "def median(arr):\n",
    "    n = len(arr)\n",
    "    sorted_arr = np.sort(arr)\n",
    "    if n % 2 == 0:\n",
    "        median = (sorted_arr[int((n - 1) / 2)] + sorted_arr[int(n / 2)]) / 2.0\n",
    "    else:\n",
    "        median = sorted_arr[n / 2]\n",
    "    return median"
   ]
  },
  {
   "cell_type": "code",
   "execution_count": 34,
   "metadata": {},
   "outputs": [],
   "source": [
    "# Calculate MAD manually\n",
    "def calc_mad(arr):\n",
    "    \n",
    "    # Find number of elements\n",
    "    n = len(arr)\n",
    "    \n",
    "    # Get median of array\n",
    "    med = median(arr)\n",
    "\n",
    "    # Calculate absolute deviation from median for each element\n",
    "    devs = [0] * n\n",
    "    for i in range(n):\n",
    "        devs[i] = abs(arr[i] - med)\n",
    "    \n",
    "    # Find median of deviations\n",
    "    return median(devs)"
   ]
  },
  {
   "cell_type": "code",
   "execution_count": 35,
   "metadata": {},
   "outputs": [],
   "source": [
    "# Wrapper to extract MAD features for all axis\n",
    "def extract_mad_features(sample, scale=1.4826):\n",
    "    mads = []\n",
    "    \n",
    "    # Calculate MAD for each axis (note: SciPy scales by 1.4826)\n",
    "    # https://github.com/scipy/scipy/issues/11090\n",
    "    for axis in range(sample.shape[1]):\n",
    "        mads.append(scale * calc_mad(sample[:, axis]))\n",
    "        \n",
    "    return mads"
   ]
  },
  {
   "cell_type": "code",
   "execution_count": 36,
   "metadata": {},
   "outputs": [
    {
     "name": "stdout",
     "output_type": "stream",
     "text": [
      "[0.000994824599999997, 0.0009043859999999991, 0.0012661404000000316]\n"
     ]
    }
   ],
   "source": [
    "# Test MAD algorithm and compare to SciPy answer\n",
    "sample = normal_sample[0:max_measurements]                  # Truncate to 128 measurements\n",
    "normal_x = extract_mad_features(sample)\n",
    "print(normal_x)"
   ]
  },
  {
   "cell_type": "code",
   "execution_count": 37,
   "metadata": {},
   "outputs": [
    {
     "name": "stdout",
     "output_type": "stream",
     "text": [
      "42.86377903330594\n"
     ]
    }
   ],
   "source": [
    "# Test: calculate Mahalanobis distance using Numpy\n",
    "x_minus_mu = normal_x - model_mu\n",
    "left_term = np.dot(x_minus_mu, inv_cov)\n",
    "mahal = np.dot(left_term, x_minus_mu.T)\n",
    "print(mahal)"
   ]
  },
  {
   "cell_type": "code",
   "execution_count": 38,
   "metadata": {},
   "outputs": [],
   "source": [
    "# Calculate the dot product of two vectors\n",
    "def dot_product(a, b):\n",
    "    sum = 0\n",
    "    for i in range(len(a)):\n",
    "        sum += a[i] * b[i]\n",
    "        \n",
    "    return sum"
   ]
  },
  {
   "cell_type": "code",
   "execution_count": 39,
   "metadata": {},
   "outputs": [],
   "source": [
    "# Do matrix multiplication\n",
    "def matrix_multiply(a, b):\n",
    "    \n",
    "    # Find number of rows and columns\n",
    "    a_rows = len(a)\n",
    "    a_cols = len(a[0])\n",
    "    b_rows = len(b)\n",
    "    b_cols = len(b[0])\n",
    "    \n",
    "    # Check to make sure we can multiply the matrices\n",
    "    if a_cols != b_rows:\n",
    "        print('Dimension mismatch')\n",
    "        return [[]]\n",
    "    \n",
    "    # Create return matrix\n",
    "    prod = [[0 for i in range(b_cols)] for j in range(a_rows)]\n",
    "    \n",
    "    # Calculate the dot product for each element in the return matrix\n",
    "    for i in range(a_rows):\n",
    "        for j in range(b_cols):\n",
    "            for k in range(a_cols):\n",
    "                prod[i][j] += a[i][k] * b[k][j]\n",
    "    \n",
    "    return prod"
   ]
  },
  {
   "cell_type": "code",
   "execution_count": 40,
   "metadata": {},
   "outputs": [],
   "source": [
    "# Calculate Mahalanobis distance the C way (with const inverse covariance)\n",
    "def mahalanobis(x, mu, inv_cov):\n",
    "    \n",
    "    # Subtract each element in X from the mean\n",
    "    x_minus_mu = [0 for i in range(len(x))]\n",
    "    for i in range(len(x)):\n",
    "        x_minus_mu[i] = x[i] - mu[i]\n",
    "        \n",
    "    # Compute product of prev term and inverse covariance\n",
    "    left_term = matrix_multiply([x_minus_mu], inv_cov)\n",
    "    \n",
    "    # Transpose difference matrix\n",
    "    x_minus_mu_t = [[i] for i in x_minus_mu]\n",
    "    \n",
    "    # Matrix multiply prev term and difference\n",
    "    mahal = matrix_multiply(left_term, x_minus_mu_t)\n",
    "    \n",
    "    return mahal[0][0]"
   ]
  },
  {
   "cell_type": "code",
   "execution_count": 41,
   "metadata": {},
   "outputs": [
    {
     "name": "stdout",
     "output_type": "stream",
     "text": [
      "Normal Sample\n",
      "MAD: [0.000994824599999997, 0.0009043859999999991, 0.0012661404000000316]\n",
      "Mahalanobis distance: 42.86377903330594\n"
     ]
    }
   ],
   "source": [
    "# Test Mahalanobis function with normal sample\n",
    "print('Normal Sample')\n",
    "print('MAD:', normal_x)\n",
    "print('Mahalanobis distance:', mahalanobis(normal_x, model_mu.tolist(), inv_cov.tolist()))"
   ]
  },
  {
   "cell_type": "code",
   "execution_count": 42,
   "metadata": {},
   "outputs": [
    {
     "name": "stdout",
     "output_type": "stream",
     "text": [
      "Anomaly Sample\n",
      "MAD: [0.0253368927, 0.019184102700000007, 0.009049049100000059]\n",
      "Mahalanobis distance: 168790.3728111164\n"
     ]
    }
   ],
   "source": [
    "# Test Mahalanobis function with anomaly sample\n",
    "print('Anomaly Sample')\n",
    "sample = anomaly_sample[0:max_measurements]  # Truncate to 128 measurements\n",
    "anomaly_x = extract_mad_features(sample)\n",
    "print('MAD:', anomaly_x)\n",
    "print('Mahalanobis distance:', mahalanobis(anomaly_x, model_mu, inv_cov))"
   ]
  }
 ],
 "metadata": {
  "kernelspec": {
   "display_name": "Python 3.10.6 64-bit",
   "language": "python",
   "name": "python3"
  },
  "language_info": {
   "codemirror_mode": {
    "name": "ipython",
    "version": 3
   },
   "file_extension": ".py",
   "mimetype": "text/x-python",
   "name": "python",
   "nbconvert_exporter": "python",
   "pygments_lexer": "ipython3",
   "version": "3.9.13"
  },
  "vscode": {
   "interpreter": {
    "hash": "72dbf09e9dcc1083b9e83a863bbb442aaf8d8885a2d87cb25ca28ecf79dfaebb"
   }
  }
 },
 "nbformat": 4,
 "nbformat_minor": 4
}
