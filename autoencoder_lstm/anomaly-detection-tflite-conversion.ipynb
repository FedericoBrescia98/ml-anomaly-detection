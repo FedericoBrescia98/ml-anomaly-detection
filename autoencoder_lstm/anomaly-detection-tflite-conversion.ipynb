{
 "cells": [
  {
   "cell_type": "markdown",
   "metadata": {},
   "source": [
    "TensorFlow Lite Conversion\n",
    "---\n",
    "Convert the full Keras model into a smaller TensorFlow Lite model file. Then, read in the raw hex bytes from the model file and write them to a separate C header file as an array."
   ]
  },
  {
   "cell_type": "code",
   "execution_count": 28,
   "metadata": {},
   "outputs": [],
   "source": [
    "from os.path import join\n",
    "import numpy as np\n",
    "import matplotlib.pyplot as plt\n",
    "import tensorflow as tf\n",
    "from tensorflow.keras import models\n",
    "from scipy import stats\n",
    "import c_writer"
   ]
  },
  {
   "cell_type": "code",
   "execution_count": 29,
   "metadata": {},
   "outputs": [
    {
     "name": "stdout",
     "output_type": "stream",
     "text": [
      "Python 3.9.13\n",
      "Numpy 1.21.5\n",
      "TensorFlow 2.10.1\n",
      "Keras 2.10.0\n"
     ]
    }
   ],
   "source": [
    "# Print versions\n",
    "!python --version\n",
    "print('Numpy ' + np.__version__)\n",
    "print('TensorFlow ' + tf.__version__)\n",
    "print('Keras ' + tf.keras.__version__)"
   ]
  },
  {
   "cell_type": "code",
   "execution_count": 30,
   "metadata": {},
   "outputs": [],
   "source": [
    "# Settings\n",
    "models_path = 'models'  # Where we can find the model files (relative path location)\n",
    "keras_model_name = 'LSTM_model'           # Will be given .h5 suffix\n",
    "tflite_model_name = 'LSTM_model'          # Will be given .tflite suffix\n",
    "c_model_name = 'fan_low_model'               # Will be given .h suffix1"
   ]
  },
  {
   "cell_type": "code",
   "execution_count": 31,
   "metadata": {},
   "outputs": [
    {
     "name": "stdout",
     "output_type": "stream",
     "text": [
      "WARNING:tensorflow:Layer lstm_4 will not use cuDNN kernels since it doesn't meet the criteria. It will use a generic GPU kernel as fallback when running on GPU.\n"
     ]
    },
    {
     "name": "stderr",
     "output_type": "stream",
     "text": [
      "WARNING:tensorflow:Layer lstm_4 will not use cuDNN kernels since it doesn't meet the criteria. It will use a generic GPU kernel as fallback when running on GPU.\n"
     ]
    },
    {
     "name": "stdout",
     "output_type": "stream",
     "text": [
      "WARNING:tensorflow:Layer lstm_5 will not use cuDNN kernels since it doesn't meet the criteria. It will use a generic GPU kernel as fallback when running on GPU.\n"
     ]
    },
    {
     "name": "stderr",
     "output_type": "stream",
     "text": [
      "WARNING:tensorflow:Layer lstm_5 will not use cuDNN kernels since it doesn't meet the criteria. It will use a generic GPU kernel as fallback when running on GPU.\n"
     ]
    },
    {
     "name": "stdout",
     "output_type": "stream",
     "text": [
      "WARNING:tensorflow:Layer lstm_6 will not use cuDNN kernels since it doesn't meet the criteria. It will use a generic GPU kernel as fallback when running on GPU.\n"
     ]
    },
    {
     "name": "stderr",
     "output_type": "stream",
     "text": [
      "WARNING:tensorflow:Layer lstm_6 will not use cuDNN kernels since it doesn't meet the criteria. It will use a generic GPU kernel as fallback when running on GPU.\n"
     ]
    },
    {
     "name": "stdout",
     "output_type": "stream",
     "text": [
      "WARNING:tensorflow:Layer lstm_7 will not use cuDNN kernels since it doesn't meet the criteria. It will use a generic GPU kernel as fallback when running on GPU.\n"
     ]
    },
    {
     "name": "stderr",
     "output_type": "stream",
     "text": [
      "WARNING:tensorflow:Layer lstm_7 will not use cuDNN kernels since it doesn't meet the criteria. It will use a generic GPU kernel as fallback when running on GPU.\n"
     ]
    }
   ],
   "source": [
    "# Load model\n",
    "model = models.load_model(join(models_path, keras_model_name) + '.h5')"
   ]
  },
  {
   "cell_type": "code",
   "execution_count": 32,
   "metadata": {},
   "outputs": [
    {
     "name": "stdout",
     "output_type": "stream",
     "text": [
      "INFO:tensorflow:Assets written to: C:\\Users\\fede-\\AppData\\Local\\Temp\\tmpvkxig860\\assets\n"
     ]
    },
    {
     "name": "stderr",
     "output_type": "stream",
     "text": [
      "INFO:tensorflow:Assets written to: C:\\Users\\fede-\\AppData\\Local\\Temp\\tmpvkxig860\\assets\n"
     ]
    },
    {
     "data": {
      "text/plain": [
       "52744"
      ]
     },
     "execution_count": 32,
     "metadata": {},
     "output_type": "execute_result"
    }
   ],
   "source": [
    "# Convert Keras model to a tflite model\n",
    "converter = tf.lite.TFLiteConverter.from_keras_model(model)\n",
    "converter.optimizations = [tf.lite.Optimize.DEFAULT]\n",
    "converter.target_spec.supported_ops = [tf.lite.OpsSet.TFLITE_BUILTINS, tf.lite.OpsSet.SELECT_TF_OPS]\n",
    "converter._experimental_lower_tensor_list_ops = False\n",
    "tflite_model = converter.convert()\n",
    "open(join(models_path, tflite_model_name) + '.tflite', 'wb').write(tflite_model)"
   ]
  },
  {
   "cell_type": "code",
   "execution_count": 33,
   "metadata": {},
   "outputs": [],
   "source": [
    "# Construct header file\n",
    "hex_array = [format(val, '#04x') for val in tflite_model]\n",
    "c_model = c_writer.create_array(np.array(hex_array), 'unsigned char', c_model_name)\n",
    "header_str = c_writer.create_header(c_model, c_model_name)"
   ]
  },
  {
   "cell_type": "code",
   "execution_count": 34,
   "metadata": {},
   "outputs": [],
   "source": [
    "# Save C header file\n",
    "with open(join(models_path, c_model_name) + '.h', 'w') as file:\n",
    "    file.write(header_str)"
   ]
  },
  {
   "cell_type": "markdown",
   "metadata": {},
   "source": [
    "Test Inference\n",
    "---\n",
    "Get known good values from the model for normal and anomaly samples to compare against C++ implementation."
   ]
  },
  {
   "cell_type": "code",
   "execution_count": 39,
   "metadata": {},
   "outputs": [],
   "source": [
    "# Saved Numpy test samples file location\n",
    "sample_file_path = '..\\\\test_samples'\n",
    "sample_file_name = 'normal_anomaly_samples'  # Will be given .npz suffix\n",
    "\n",
    "max_measurements = 128\n",
    "time_steps = 32"
   ]
  },
  {
   "cell_type": "code",
   "execution_count": 40,
   "metadata": {},
   "outputs": [
    {
     "name": "stdout",
     "output_type": "stream",
     "text": [
      "(200, 3)\n",
      "(200, 3)\n",
      "[[0.056425 0.041053 0.992775]\n",
      " [0.055632 0.042395 0.989115]\n",
      " [0.057096 0.041175 0.990152]\n",
      " [0.05673  0.041175 0.988749]\n",
      " [0.053436 0.042212 0.991677]]\n"
     ]
    }
   ],
   "source": [
    "# Load test samples\n",
    "with np.load(join(sample_file_path, sample_file_name) + '.npz') as data:\n",
    "    normal_sample = data['normal_sample']\n",
    "    anomaly_sample = data['anomaly_sample']\n",
    "print(normal_sample.shape)\n",
    "print(anomaly_sample.shape)\n",
    "print(normal_sample[:5])"
   ]
  },
  {
   "cell_type": "code",
   "execution_count": 44,
   "metadata": {},
   "outputs": [
    {
     "name": "stdout",
     "output_type": "stream",
     "text": [
      "Normal MAD: [[[0.056425 0.041053 0.992775]\n",
      "  [0.055632 0.042395 0.989115]\n",
      "  [0.057096 0.041175 0.990152]\n",
      "  [0.05673  0.041175 0.988749]\n",
      "  [0.053436 0.042212 0.991677]\n",
      "  [0.054961 0.042578 0.991006]\n",
      "  [0.05551  0.038918 0.988688]\n",
      "  [0.055327 0.042029 0.991189]\n",
      "  [0.056974 0.041968 0.989542]\n",
      "  [0.055815 0.041175 0.989786]\n",
      "  [0.054473 0.039589 0.992165]\n",
      "  [0.057157 0.04087  0.988932]\n",
      "  [0.055693 0.040382 0.991372]\n",
      "  [0.05673  0.039955 0.991555]\n",
      "  [0.054351 0.042456 0.992287]\n",
      "  [0.053985 0.041175 0.987773]\n",
      "  [0.054778 0.040199 0.988993]\n",
      "  [0.056059 0.042212 0.989969]\n",
      "  [0.056974 0.041663 0.990152]\n",
      "  [0.056181 0.038125 0.990762]\n",
      "  [0.055815 0.04209  0.990701]\n",
      "  [0.054412 0.040504 0.990579]\n",
      "  [0.055937 0.042761 0.990579]\n",
      "  [0.056181 0.042517 0.989725]\n",
      "  [0.055205 0.040626 0.989359]\n",
      "  [0.055449 0.041114 0.993202]\n",
      "  [0.054534 0.042212 0.992104]\n",
      "  [0.057218 0.040626 0.990457]\n",
      "  [0.055998 0.039894 0.991555]\n",
      "  [0.05551  0.0427   0.9882  ]\n",
      "  [0.056181 0.04087  0.993141]\n",
      "  [0.055693 0.041846 0.990823]]]\n",
      "Anomaly MAD: [[[ 1.56250e-02  2.35840e-01  9.75098e-01]\n",
      "  [-4.05270e-02  1.92383e-01  9.66797e-01]\n",
      "  [ 6.83600e-03  2.12891e-01  9.84375e-01]\n",
      "  [-2.73440e-02  1.96289e-01  9.73633e-01]\n",
      "  [-8.78900e-03  2.12891e-01  9.86816e-01]\n",
      "  [-4.88300e-03  2.16309e-01  9.73633e-01]\n",
      "  [-3.17380e-02  1.92383e-01  9.77539e-01]\n",
      "  [ 2.14840e-02  2.33398e-01  9.88770e-01]\n",
      "  [-3.36910e-02  1.88477e-01  9.71680e-01]\n",
      "  [ 5.37100e-03  2.07520e-01  9.66309e-01]\n",
      "  [-2.00200e-02  2.22168e-01  9.93164e-01]\n",
      "  [-4.34570e-02  1.86035e-01  9.76563e-01]\n",
      "  [-2.44100e-03  2.10449e-01  9.84375e-01]\n",
      "  [-1.85550e-02  1.99707e-01  9.66309e-01]\n",
      "  [-1.85550e-02  2.02637e-01  9.80469e-01]\n",
      "  [ 1.46480e-02  2.37305e-01  9.85352e-01]\n",
      "  [-4.19920e-02  1.82129e-01  9.71680e-01]\n",
      "  [ 5.37100e-03  2.17285e-01  9.80469e-01]\n",
      "  [-2.14840e-02  1.93359e-01  9.78027e-01]\n",
      "  [ 9.77000e-04  2.08984e-01  9.85352e-01]\n",
      "  [-5.37100e-03  2.13867e-01  9.81445e-01]\n",
      "  [-3.02730e-02  1.89453e-01  9.75098e-01]\n",
      "  [ 1.31840e-02  2.32910e-01  9.93652e-01]\n",
      "  [-3.02730e-02  1.88965e-01  9.82910e-01]\n",
      "  [ 5.37100e-03  2.12891e-01  9.72168e-01]\n",
      "  [ 9.76600e-03  2.29492e-01  9.83887e-01]\n",
      "  [-3.17380e-02  1.78223e-01  9.69238e-01]\n",
      "  [ 6.83600e-03  2.08496e-01  9.83887e-01]\n",
      "  [-1.85550e-02  2.02148e-01  9.73145e-01]\n",
      "  [-1.70900e-02  2.04102e-01  9.83398e-01]\n",
      "  [ 2.44100e-03  2.25586e-01  9.85840e-01]\n",
      "  [-4.15040e-02  1.86523e-01  9.72656e-01]]]\n"
     ]
    }
   ],
   "source": [
    "# Test extracting features (median absolute deviation) using SciPy\n",
    "import math\n",
    "\n",
    "\n",
    "sample = normal_sample[0:max_measurements]                  # Truncate to 128 measurements\n",
    "normal_x = []\n",
    "for i in range(0, math.floor((max_measurements/time_steps)), time_steps):\n",
    "            normal_x.append(sample[i*time_steps:((i+1)*time_steps)])\n",
    "normal_x = np.array(normal_x)\n",
    "sample = anomaly_sample[0:max_measurements]\n",
    "anomaly_x = []\n",
    "for i in range(0, math.floor((max_measurements/time_steps)), time_steps):\n",
    "            anomaly_x.append(sample[i*time_steps:((i+1)*time_steps)])\n",
    "anomaly_x = np.array(anomaly_x)\n",
    "print(\"Normal MAD:\", normal_x)\n",
    "print(\"Anomaly MAD:\", anomaly_x)"
   ]
  },
  {
   "cell_type": "code",
   "execution_count": 45,
   "metadata": {},
   "outputs": [
    {
     "name": "stdout",
     "output_type": "stream",
     "text": [
      "1/1 [==============================] - 9s 9s/step\n",
      "Prediction: [[[0.05315357 0.03911965 0.98851204]\n",
      "  [0.05678287 0.04950383 0.9879505 ]\n",
      "  [0.05822475 0.03983043 0.99268156]\n",
      "  [0.05566148 0.03632066 0.9950259 ]\n",
      "  [0.05403024 0.0378007  0.9903953 ]\n",
      "  [0.05311585 0.04006122 0.98755264]\n",
      "  [0.05306461 0.04202757 0.9869808 ]\n",
      "  [0.05347701 0.04346972 0.9874937 ]\n",
      "  [0.05399675 0.04433522 0.98835766]\n",
      "  [0.05445153 0.04471284 0.9892086 ]\n",
      "  [0.05478448 0.04473676 0.98989034]\n",
      "  [0.05499605 0.04452975 0.99036634]\n",
      "  [0.05510994 0.04418872 0.99065703]\n",
      "  [0.05515468 0.04378313 0.99080104]\n",
      "  [0.0551552  0.04335988 0.99083954]\n",
      "  [0.05513033 0.04294851 0.99080706]\n",
      "  [0.05509345 0.04256582 0.9907313 ]\n",
      "  [0.05505273 0.04222036 0.99063236]\n",
      "  [0.0550132  0.04191496 0.99052423]\n",
      "  [0.0549775  0.04164921 0.99041575]\n",
      "  [0.05494663 0.04142071 0.9903128 ]\n",
      "  [0.05492072 0.04122604 0.9902185 ]\n",
      "  [0.05489947 0.04106143 0.99013424]\n",
      "  [0.05488229 0.04092305 0.99006027]\n",
      "  [0.05486855 0.04080728 0.98999655]\n",
      "  [0.05485781 0.0407107  0.9899421 ]\n",
      "  [0.0548493  0.04063048 0.98989594]\n",
      "  [0.05484266 0.04056404 0.9898573 ]\n",
      "  [0.05483739 0.04050902 0.98982495]\n",
      "  [0.05483335 0.04046366 0.9897982 ]\n",
      "  [0.05483022 0.04042628 0.989776  ]\n",
      "  [0.05482772 0.04039545 0.98975784]]]\n",
      "MSE: [2.14488306e-06 7.59908989e-06 4.85617061e-06]\n"
     ]
    }
   ],
   "source": [
    "# Perform inference and find MSE with normal sample\n",
    "input_tensor = normal_x\n",
    "pred = model.predict(input_tensor)\n",
    "mse = np.mean(np.power(normal_x - pred, 2), axis=1)\n",
    "print(\"Prediction:\", pred)\n",
    "print(\"MSE:\", *mse)"
   ]
  },
  {
   "cell_type": "code",
   "execution_count": 47,
   "metadata": {},
   "outputs": [
    {
     "name": "stdout",
     "output_type": "stream",
     "text": [
      "1/1 [==============================] - 0s 120ms/step\n",
      "Prediction: [[[0.05000145 0.05726043 0.76680046]\n",
      "  [0.05928046 0.07657729 0.8790944 ]\n",
      "  [0.06351883 0.08029208 0.9025014 ]\n",
      "  [0.06272297 0.08264497 0.9117995 ]\n",
      "  [0.06219133 0.08572852 0.9126205 ]\n",
      "  [0.06228836 0.08846194 0.91228735]\n",
      "  [0.06302409 0.09041958 0.9127359 ]\n",
      "  [0.06410956 0.09166875 0.913786  ]\n",
      "  [0.06525359 0.09235559 0.91500354]\n",
      "  [0.0662854  0.09262889 0.9161187 ]\n",
      "  [0.0671367  0.09262232 0.91701496]\n",
      "  [0.06779973 0.09244157 0.9176713 ]\n",
      "  [0.06829607 0.09216369 0.91811526]\n",
      "  [0.06865747 0.09184176 0.91839075]\n",
      "  [0.06891564 0.09151054 0.9185417 ]\n",
      "  [0.06909783 0.09119137 0.9186068 ]\n",
      "  [0.0692254  0.09089644 0.9186155 ]\n",
      "  [0.06931476 0.09063151 0.9185897 ]\n",
      "  [0.06937754 0.09039845 0.9185452 ]\n",
      "  [0.06942211 0.09019656 0.91849196]\n",
      "  [0.06945413 0.09002376 0.9184368 ]\n",
      "  [0.06947757 0.08987715 0.9183839 ]\n",
      "  [0.0694951  0.08975377 0.91833526]\n",
      "  [0.0695084  0.08965056 0.9182919 ]\n",
      "  [0.06951873 0.08956456 0.9182544 ]\n",
      "  [0.0695269  0.08949333 0.91822225]\n",
      "  [0.06953332 0.08943444 0.91819525]\n",
      "  [0.06953852 0.08938593 0.9181728 ]\n",
      "  [0.0695428  0.089346   0.91815406]\n",
      "  [0.06954625 0.08931332 0.91813886]\n",
      "  [0.06954911 0.08928649 0.9181265 ]\n",
      "  [0.06955141 0.08926454 0.91811657]]]\n",
      "MSE: [0.00661151 0.01442519 0.00535449]\n"
     ]
    }
   ],
   "source": [
    "# Perform inference and find MSE with anomaly sample\n",
    "input_tensor = anomaly_x\n",
    "pred = model.predict(input_tensor)\n",
    "mse = np.mean(np.power(anomaly_x - pred, 2), axis=1)\n",
    "print(\"Prediction:\", pred)\n",
    "print(\"MSE:\", *mse)"
   ]
  }
 ],
 "metadata": {
  "kernelspec": {
   "display_name": "Python 3.10.5 64-bit",
   "language": "python",
   "name": "python3"
  },
  "language_info": {
   "codemirror_mode": {
    "name": "ipython",
    "version": 3
   },
   "file_extension": ".py",
   "mimetype": "text/x-python",
   "name": "python",
   "nbconvert_exporter": "python",
   "pygments_lexer": "ipython3",
   "version": "3.9.13"
  },
  "vscode": {
   "interpreter": {
    "hash": "0033e3e0d36cbbab1b21dfc6be14960698c8a08354c33c9d4979a43d4e145d72"
   }
  }
 },
 "nbformat": 4,
 "nbformat_minor": 4
}
