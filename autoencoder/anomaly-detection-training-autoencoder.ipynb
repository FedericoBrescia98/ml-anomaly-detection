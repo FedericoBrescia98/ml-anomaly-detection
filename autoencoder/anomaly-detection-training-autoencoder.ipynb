{
 "cells": [
  {
   "cell_type": "code",
   "execution_count": 5,
   "metadata": {},
   "outputs": [],
   "source": [
    "from os import listdir\n",
    "from os.path import join\n",
    "import numpy as np\n",
    "import pandas as pd\n",
    "import matplotlib.pyplot as plt\n",
    "import random\n",
    "from scipy import stats\n",
    "import tensorflow as tf\n",
    "from tensorflow.keras import layers, models, optimizers, regularizers\n",
    "from sklearn.metrics import confusion_matrix\n",
    "import seaborn as sn"
   ]
  },
  {
   "cell_type": "code",
   "execution_count": 6,
   "metadata": {},
   "outputs": [
    {
     "name": "stdout",
     "output_type": "stream",
     "text": [
      "Python 3.10.5Numpy 1.22.4\n",
      "TensorFlow 2.9.1\n",
      "Keras 2.9.0\n",
      "\n"
     ]
    }
   ],
   "source": [
    "# Print versions\n",
    "!python --version\n",
    "print('Numpy ' + np.__version__)\n",
    "print('TensorFlow ' + tf.__version__)\n",
    "print('Keras ' + tf.keras.__version__)"
   ]
  },
  {
   "cell_type": "code",
   "execution_count": 8,
   "metadata": {},
   "outputs": [
    {
     "name": "stdout",
     "output_type": "stream",
     "text": [
      "Max measurements per file: 128\n"
     ]
    }
   ],
   "source": [
    "# Settings\n",
    "dataset_path = '..\\\\datasets\\\\ceiling-fan'  # Directory where raw accelerometer data is stored\n",
    "normal_op_list = ['my_steady'] #['fan_0_low_0_weight']\n",
    "anomaly_op_list = ['fan_0_med_0_weight', 'fan_0_high_0_weight',\n",
    "                  'fan_0_low_1_weight', 'fan_0_med_1_weight', 'fan_0_high_1_weight']\n",
    "val_ratio = 0.2             # Percentage of samples that should be held for validation set\n",
    "test_ratio = 0.2            # Percentage of samples that should be held for test set\n",
    "raw_scale = 1               # Multiply raw values to fit into integers\n",
    "# sensor_sample_rate = 200    # Hz\n",
    "# desired_sample_rate = 50    # Hz\n",
    "# sample_time = 0.64           # Time (sec) length of each sample\n",
    "samples_per_file = 128      # Expected number of measurements in each file (truncate to this)\n",
    "max_measurements = 128\n",
    "# max_measurements = int(sample_time * sensor_sample_rate)\n",
    "# downsample_factor = int(samples_per_file / desired_sample_rate)\n",
    "# win_len = int(max_measurements / downsample_factor)\n",
    "\n",
    "keras_model_name = 'models\\\\Auto_enc_model'           # Will be given .h5 suffix\n",
    "sample_file_name = '..\\\\test_samples\\\\normal_anomaly_samples'  # Will be given .npz suffix\n",
    "rep_dataset_name = '..\\\\test_samples\\\\normal_anomaly_test_set' # Will be given .npz suffix\n",
    "\n",
    "print('Max measurements per file:', max_measurements)\n",
    "# print('Downsample factor:', downsample_factor)\n",
    "# print('Window length:', win_len)"
   ]
  },
  {
   "cell_type": "code",
   "execution_count": 9,
   "metadata": {},
   "outputs": [],
   "source": [
    "# Create list of filenames\n",
    "def createFilenameList(op_list):\n",
    "    \n",
    "    # Extract paths and filenames in each directory\n",
    "    op_filenames = []\n",
    "    num_samples = 0\n",
    "    for index, target in enumerate(op_list):\n",
    "        samples_in_dir = listdir(join(dataset_path, target))\n",
    "        samples_in_dir = [join(dataset_path, target, sample) for sample in samples_in_dir]\n",
    "        op_filenames.append(samples_in_dir)\n",
    "    \n",
    "    # Flatten list\n",
    "    return [item for sublist in op_filenames for item in sublist]"
   ]
  },
  {
   "cell_type": "code",
   "execution_count": 10,
   "metadata": {},
   "outputs": [
    {
     "name": "stdout",
     "output_type": "stream",
     "text": [
      "Number of normal samples: 527\n",
      "Number of anomaly samples: 2926\n"
     ]
    }
   ],
   "source": [
    "# Create normal and anomaly filename lists\n",
    "normal_op_filenames = createFilenameList(normal_op_list)\n",
    "anomaly_op_filenames = createFilenameList(anomaly_op_list)\n",
    "print('Number of normal samples:', len(normal_op_filenames))\n",
    "print('Number of anomaly samples:', len(anomaly_op_filenames))"
   ]
  },
  {
   "cell_type": "code",
   "execution_count": 11,
   "metadata": {},
   "outputs": [],
   "source": [
    "# Shuffle lists\n",
    "random.shuffle(normal_op_filenames)\n",
    "random.shuffle(anomaly_op_filenames)"
   ]
  },
  {
   "cell_type": "code",
   "execution_count": 12,
   "metadata": {},
   "outputs": [],
   "source": [
    "# Calculate validation and test set sizes\n",
    "val_set_size = int(len(normal_op_filenames) * val_ratio)\n",
    "test_set_size = int(len(normal_op_filenames) * test_ratio)"
   ]
  },
  {
   "cell_type": "code",
   "execution_count": 13,
   "metadata": {},
   "outputs": [
    {
     "name": "stdout",
     "output_type": "stream",
     "text": [
      "Number of training samples: 317\n",
      "Number of validation samples: 105\n",
      "Number of test samples: 105\n"
     ]
    }
   ],
   "source": [
    "# Break dataset apart into train, validation, and test sets\n",
    "num_samples = len(normal_op_filenames)\n",
    "filenames_val = normal_op_filenames[:val_set_size]\n",
    "filenames_test = normal_op_filenames[val_set_size:(val_set_size + test_set_size)]\n",
    "filenames_train = normal_op_filenames[(val_set_size + test_set_size):]\n",
    "\n",
    "# Print out number of samples in each set\n",
    "print('Number of training samples:', len(filenames_train))\n",
    "print('Number of validation samples:', len(filenames_val))\n",
    "print('Number of test samples:', len(filenames_test))\n",
    "\n",
    "# Check that our splits add up correctly\n",
    "assert(len(filenames_train) + len(filenames_val) + len(filenames_test)) == num_samples"
   ]
  },
  {
   "cell_type": "code",
   "execution_count": 14,
   "metadata": {},
   "outputs": [],
   "source": [
    "# Function: extract specified features (variances, MAD) from sample\n",
    "def extract_features(sample, max_measurements=0, scale=1):\n",
    "    \n",
    "    features = []\n",
    "    \n",
    "    # Truncate sample\n",
    "    if max_measurements == 0:\n",
    "        max_measurements = sample.shape[0]\n",
    "    sample = sample[0:max_measurements]\n",
    "    \n",
    "    # Scale sample\n",
    "    sample = scale * sample\n",
    "    \n",
    "        \n",
    "#     # Remove DC component\n",
    "#     sample = sample - np.mean(sample, axis=0)\n",
    "    \n",
    "#     # Truncate sample\n",
    "#     sample = sample[0:max_measurements]\n",
    "    \n",
    "#     # Variance\n",
    "#     features.append(np.var(sample, axis=0))\n",
    "    \n",
    "#     # Kurtosis\n",
    "#     features.append(stats.kurtosis(sample))\n",
    "    \n",
    "#     # Skew\n",
    "#     features.append(stats.skew(sample))\n",
    "    \n",
    "    # Median absolute deviation (MAD)\n",
    "    features.append(stats.median_abs_deviation(sample))\n",
    "    \n",
    "#     # Correlation\n",
    "#     cov = np.corrcoef(sample.T)\n",
    "#     features.append(np.array([cov[0,1], cov[0,2], cov[1,2]]))\n",
    "    \n",
    "    # Compute a windowed FFT of each axis in the sample (leave off DC)\n",
    "#     sample = sample[::downsample_factor, :]  # Downsample\n",
    "#     sample = np.floor(sample)                # Round down to int\n",
    "#     hann_window = np.hanning(sample.shape[0])\n",
    "#     for i, axis in enumerate(sample.T):\n",
    "#         fft = abs(np.fft.rfft(axis * hann_window))\n",
    "#         features.append(fft[1:])  # Leave off DC\n",
    "    \n",
    "    return np.array(features).flatten()"
   ]
  },
  {
   "cell_type": "code",
   "execution_count": 16,
   "metadata": {},
   "outputs": [
    {
     "name": "stdout",
     "output_type": "stream",
     "text": [
      "(3,)\n",
      "[0.000671  0.0006405 0.000732 ]\n"
     ]
    },
    {
     "data": {
      "text/plain": [
       "[<matplotlib.lines.Line2D at 0x1f1f3b71ae0>]"
      ]
     },
     "execution_count": 16,
     "metadata": {},
     "output_type": "execute_result"
    },
    {
     "data": {
      "image/png": "[encoded data removed]",
      "text/plain": [
       "<Figure size 432x288 with 1 Axes>"
      ]
     },
     "metadata": {
      "needs_background": "light"
     },
     "output_type": "display_data"
    }
   ],
   "source": [
    "# Test with 1 sample\n",
    "sample = np.genfromtxt(filenames_test[0], delimiter=',')\n",
    "features = extract_features(sample, max_measurements, scale=raw_scale)\n",
    "print(features.shape)\n",
    "print(features)\n",
    "plt.plot(features)"
   ]
  },
  {
   "cell_type": "code",
   "execution_count": 80,
   "metadata": {},
   "outputs": [],
   "source": [
    "# Function: loop through filenames, creating feature sets\n",
    "def create_feature_set(filenames):\n",
    "    x_out = []\n",
    "    for file in filenames:\n",
    "        #print(file)\n",
    "        sample = np.genfromtxt(file, delimiter=',')\n",
    "        features = extract_features(sample, max_measurements, raw_scale)\n",
    "        x_out.append(features)\n",
    "        \n",
    "    return np.array(x_out)"
   ]
  },
  {
   "cell_type": "code",
   "execution_count": 81,
   "metadata": {},
   "outputs": [
    {
     "name": "stdout",
     "output_type": "stream",
     "text": [
      "Extracted features from training set. Shape: (317, 3)\n",
      "Extracted features from validation set. Shape: (105, 3)\n",
      "Extracted features from test set. Shape: (105, 3)\n"
     ]
    }
   ],
   "source": [
    "# Create training, validation, and test sets\n",
    "x_train = create_feature_set(filenames_train)\n",
    "print('Extracted features from training set. Shape:', x_train.shape)\n",
    "x_val = create_feature_set(filenames_val)\n",
    "print('Extracted features from validation set. Shape:', x_val.shape)\n",
    "x_test = create_feature_set(filenames_test)\n",
    "print('Extracted features from test set. Shape:', x_test.shape)"
   ]
  },
  {
   "cell_type": "code",
   "execution_count": 82,
   "metadata": {},
   "outputs": [
    {
     "name": "stdout",
     "output_type": "stream",
     "text": [
      "(3,)\n"
     ]
    }
   ],
   "source": [
    "# Get input shape for 1 sample\n",
    "sample_shape = x_train.shape[1:]\n",
    "print(sample_shape)"
   ]
  },
  {
   "cell_type": "code",
   "execution_count": 83,
   "metadata": {},
   "outputs": [
    {
     "name": "stdout",
     "output_type": "stream",
     "text": [
      "Model: \"sequential_4\"\n",
      "_________________________________________________________________\n",
      " Layer (type)                Output Shape              Param #   \n",
      "=================================================================\n",
      " dense_8 (Dense)             (None, 2)                 8         \n",
      "                                                                 \n",
      " dropout_4 (Dropout)         (None, 2)                 0         \n",
      "                                                                 \n",
      " dense_9 (Dense)             (None, 3)                 9         \n",
      "                                                                 \n",
      "=================================================================\n",
      "Total params: 17\n",
      "Trainable params: 17\n",
      "Non-trainable params: 0\n",
      "_________________________________________________________________\n"
     ]
    }
   ],
   "source": [
    "# Build model\n",
    "# Based on: https://medium.com/@curiousily/credit-card-fraud-detection-using-autoencoders-in-keras-tensorflow-for-hackers-part-vii-20e0c85301bd\n",
    "encoding_dim = 2       # Number of nodes in first layer\n",
    "model = models.Sequential([\n",
    "    layers.InputLayer(input_shape=sample_shape),\n",
    "    layers.Dense(encoding_dim, activation='relu'),\n",
    "    layers.Dropout(0.2),\n",
    "    layers.Dense(*sample_shape, activation='relu')\n",
    "])\n",
    "\n",
    "# Display model\n",
    "model.summary()"
   ]
  },
  {
   "cell_type": "code",
   "execution_count": 84,
   "metadata": {},
   "outputs": [],
   "source": [
    "# Add training parameters to model\n",
    "model.compile(optimizer='adam',\n",
    "             loss='mse')"
   ]
  },
  {
   "cell_type": "code",
   "execution_count": 85,
   "metadata": {},
   "outputs": [
    {
     "name": "stdout",
     "output_type": "stream",
     "text": [
      "Epoch 1/50\n",
      "4/4 [==============================] - 0s 44ms/step - loss: 3.7404e-07 - val_loss: 3.3720e-07\n",
      "Epoch 2/50\n",
      "4/4 [==============================] - 0s 10ms/step - loss: 2.7542e-07 - val_loss: 2.1405e-07\n",
      "Epoch 3/50\n",
      "4/4 [==============================] - 0s 25ms/step - loss: 2.1782e-07 - val_loss: 1.9063e-07\n",
      "Epoch 4/50\n",
      "4/4 [==============================] - 0s 12ms/step - loss: 1.8875e-07 - val_loss: 1.6630e-07\n",
      "Epoch 5/50\n",
      "4/4 [==============================] - 0s 13ms/step - loss: 1.7739e-07 - val_loss: 1.6105e-07\n",
      "Epoch 6/50\n",
      "4/4 [==============================] - 0s 15ms/step - loss: 1.6331e-07 - val_loss: 1.5740e-07\n",
      "Epoch 7/50\n",
      "4/4 [==============================] - 0s 11ms/step - loss: 1.5854e-07 - val_loss: 1.5779e-07\n",
      "Epoch 8/50\n",
      "4/4 [==============================] - 0s 11ms/step - loss: 1.5664e-07 - val_loss: 1.5901e-07\n",
      "Epoch 9/50\n",
      "4/4 [==============================] - 0s 11ms/step - loss: 1.5578e-07 - val_loss: 1.5667e-07\n",
      "Epoch 10/50\n",
      "4/4 [==============================] - 0s 12ms/step - loss: 1.5588e-07 - val_loss: 1.5698e-07\n",
      "Epoch 11/50\n",
      "4/4 [==============================] - 0s 14ms/step - loss: 1.5633e-07 - val_loss: 1.5499e-07\n",
      "Epoch 12/50\n",
      "4/4 [==============================] - 0s 11ms/step - loss: 1.5462e-07 - val_loss: 1.5506e-07\n",
      "Epoch 13/50\n",
      "4/4 [==============================] - 0s 11ms/step - loss: 1.5433e-07 - val_loss: 1.5518e-07\n",
      "Epoch 14/50\n",
      "4/4 [==============================] - 0s 12ms/step - loss: 1.5379e-07 - val_loss: 1.5506e-07\n",
      "Epoch 15/50\n",
      "4/4 [==============================] - 0s 11ms/step - loss: 1.5387e-07 - val_loss: 1.5546e-07\n",
      "Epoch 16/50\n",
      "4/4 [==============================] - 0s 11ms/step - loss: 1.5374e-07 - val_loss: 1.5503e-07\n",
      "Epoch 17/50\n",
      "4/4 [==============================] - 0s 10ms/step - loss: 1.5364e-07 - val_loss: 1.5574e-07\n",
      "Epoch 18/50\n",
      "4/4 [==============================] - 0s 10ms/step - loss: 1.5390e-07 - val_loss: 1.5501e-07\n",
      "Epoch 19/50\n",
      "4/4 [==============================] - 0s 11ms/step - loss: 1.5383e-07 - val_loss: 1.5498e-07\n",
      "Epoch 20/50\n",
      "4/4 [==============================] - 0s 10ms/step - loss: 1.5420e-07 - val_loss: 1.5529e-07\n",
      "Epoch 21/50\n",
      "4/4 [==============================] - 0s 10ms/step - loss: 1.5367e-07 - val_loss: 1.5520e-07\n",
      "Epoch 22/50\n",
      "4/4 [==============================] - 0s 9ms/step - loss: 1.5359e-07 - val_loss: 1.5518e-07\n",
      "Epoch 23/50\n",
      "4/4 [==============================] - 0s 9ms/step - loss: 1.5389e-07 - val_loss: 1.5523e-07\n",
      "Epoch 24/50\n",
      "4/4 [==============================] - 0s 11ms/step - loss: 1.5367e-07 - val_loss: 1.5530e-07\n",
      "Epoch 25/50\n",
      "4/4 [==============================] - 0s 10ms/step - loss: 1.5388e-07 - val_loss: 1.5583e-07\n",
      "Epoch 26/50\n",
      "4/4 [==============================] - 0s 10ms/step - loss: 1.5398e-07 - val_loss: 1.5572e-07\n",
      "Epoch 27/50\n",
      "4/4 [==============================] - 0s 11ms/step - loss: 1.5460e-07 - val_loss: 1.5716e-07\n",
      "Epoch 28/50\n",
      "4/4 [==============================] - 0s 11ms/step - loss: 1.5436e-07 - val_loss: 1.5612e-07\n",
      "Epoch 29/50\n",
      "4/4 [==============================] - 0s 11ms/step - loss: 1.5454e-07 - val_loss: 1.5698e-07\n",
      "Epoch 30/50\n",
      "4/4 [==============================] - 0s 10ms/step - loss: 1.5430e-07 - val_loss: 1.5596e-07\n",
      "Epoch 31/50\n",
      "4/4 [==============================] - 0s 11ms/step - loss: 1.5425e-07 - val_loss: 1.5636e-07\n",
      "Epoch 32/50\n",
      "4/4 [==============================] - 0s 11ms/step - loss: 1.5397e-07 - val_loss: 1.5523e-07\n",
      "Epoch 33/50\n",
      "4/4 [==============================] - 0s 11ms/step - loss: 1.5417e-07 - val_loss: 1.5637e-07\n",
      "Epoch 34/50\n",
      "4/4 [==============================] - 0s 10ms/step - loss: 1.5419e-07 - val_loss: 1.5522e-07\n",
      "Epoch 35/50\n",
      "4/4 [==============================] - 0s 10ms/step - loss: 1.5372e-07 - val_loss: 1.5501e-07\n",
      "Epoch 36/50\n",
      "4/4 [==============================] - 0s 15ms/step - loss: 1.5371e-07 - val_loss: 1.5584e-07\n",
      "Epoch 37/50\n",
      "4/4 [==============================] - 0s 12ms/step - loss: 1.5412e-07 - val_loss: 1.5553e-07\n",
      "Epoch 38/50\n",
      "4/4 [==============================] - 0s 11ms/step - loss: 1.5382e-07 - val_loss: 1.5574e-07\n",
      "Epoch 39/50\n",
      "4/4 [==============================] - 0s 13ms/step - loss: 1.5411e-07 - val_loss: 1.5575e-07\n",
      "Epoch 40/50\n",
      "4/4 [==============================] - 0s 10ms/step - loss: 1.5389e-07 - val_loss: 1.5585e-07\n",
      "Epoch 41/50\n",
      "4/4 [==============================] - 0s 11ms/step - loss: 1.5414e-07 - val_loss: 1.5550e-07\n",
      "Epoch 42/50\n",
      "4/4 [==============================] - 0s 11ms/step - loss: 1.5390e-07 - val_loss: 1.5533e-07\n",
      "Epoch 43/50\n",
      "4/4 [==============================] - 0s 11ms/step - loss: 1.5387e-07 - val_loss: 1.5616e-07\n",
      "Epoch 44/50\n",
      "4/4 [==============================] - 0s 11ms/step - loss: 1.5405e-07 - val_loss: 1.5557e-07\n",
      "Epoch 45/50\n",
      "4/4 [==============================] - 0s 11ms/step - loss: 1.5408e-07 - val_loss: 1.5509e-07\n",
      "Epoch 46/50\n",
      "4/4 [==============================] - 0s 11ms/step - loss: 1.5358e-07 - val_loss: 1.5505e-07\n",
      "Epoch 47/50\n",
      "4/4 [==============================] - 0s 10ms/step - loss: 1.5362e-07 - val_loss: 1.5545e-07\n",
      "Epoch 48/50\n",
      "4/4 [==============================] - 0s 10ms/step - loss: 1.5364e-07 - val_loss: 1.5498e-07\n",
      "Epoch 49/50\n",
      "4/4 [==============================] - 0s 10ms/step - loss: 1.5360e-07 - val_loss: 1.5498e-07\n",
      "Epoch 50/50\n",
      "4/4 [==============================] - 0s 11ms/step - loss: 1.5371e-07 - val_loss: 1.5514e-07\n"
     ]
    }
   ],
   "source": [
    "# Train model (note Y labels are same as inputs, X)\n",
    "history = model.fit(x_train,\n",
    "                   x_train,\n",
    "                   epochs=50,\n",
    "                   batch_size=100,\n",
    "                   validation_data=(x_val, x_val),\n",
    "                   verbose=1)"
   ]
  },
  {
   "cell_type": "markdown",
   "metadata": {},
   "source": [
    "controllare gridsearch per ottimizzare pesi NN e provare lstm"
   ]
  },
  {
   "cell_type": "code",
   "execution_count": 86,
   "metadata": {},
   "outputs": [
    {
     "data": {
      "image/png": "[encoded data removed]",
      "text/plain": [
       "<Figure size 432x288 with 1 Axes>"
      ]
     },
     "metadata": {
      "needs_background": "light"
     },
     "output_type": "display_data"
    }
   ],
   "source": [
    "# Plot results\n",
    "loss = history.history['loss']\n",
    "val_loss = history.history['val_loss']\n",
    "\n",
    "epochs = range(1, len(loss) + 1)\n",
    "\n",
    "plt.figure()\n",
    "\n",
    "plt.plot(epochs, loss, 'bo', label='Training loss')\n",
    "plt.plot(epochs, val_loss, 'b', label='Validation loss')\n",
    "plt.title('Training and validation loss')\n",
    "plt.legend()\n",
    "\n",
    "plt.show()"
   ]
  },
  {
   "cell_type": "code",
   "execution_count": 87,
   "metadata": {},
   "outputs": [
    {
     "name": "stdout",
     "output_type": "stream",
     "text": [
      "Model: \"sequential_5\"\n",
      "_________________________________________________________________\n",
      " Layer (type)                Output Shape              Param #   \n",
      "=================================================================\n",
      " dense_10 (Dense)            (None, 2)                 8         \n",
      "                                                                 \n",
      " dropout_5 (Dropout)         (None, 2)                 0         \n",
      "                                                                 \n",
      " dense_11 (Dense)            (None, 3)                 9         \n",
      "                                                                 \n",
      "=================================================================\n",
      "Total params: 17\n",
      "Trainable params: 17\n",
      "Non-trainable params: 0\n",
      "_________________________________________________________________\n",
      "Epoch 1/50\n",
      "4/4 [==============================] - 1s 40ms/step - loss: 4.4453e-07 - val_loss: 3.1521e-07\n",
      "Epoch 2/50\n",
      "4/4 [==============================] - 0s 10ms/step - loss: 2.8263e-07 - val_loss: 2.1704e-07\n",
      "Epoch 3/50\n",
      "4/4 [==============================] - 0s 11ms/step - loss: 1.7484e-07 - val_loss: 1.7503e-07\n",
      "Epoch 4/50\n",
      "4/4 [==============================] - 0s 13ms/step - loss: 1.0208e-07 - val_loss: 1.0878e-07\n",
      "Epoch 5/50\n",
      "4/4 [==============================] - 0s 13ms/step - loss: 6.7511e-08 - val_loss: 3.5580e-08\n",
      "Epoch 6/50\n",
      "4/4 [==============================] - 0s 11ms/step - loss: 3.6465e-08 - val_loss: 1.2491e-08\n",
      "Epoch 7/50\n",
      "4/4 [==============================] - 0s 12ms/step - loss: 2.0428e-08 - val_loss: 1.7517e-08\n",
      "Epoch 8/50\n",
      "4/4 [==============================] - 0s 11ms/step - loss: 1.2498e-08 - val_loss: 2.1813e-08\n",
      "Epoch 9/50\n",
      "4/4 [==============================] - 0s 12ms/step - loss: 1.2908e-08 - val_loss: 1.6545e-08\n",
      "Epoch 10/50\n",
      "4/4 [==============================] - 0s 12ms/step - loss: 1.2475e-08 - val_loss: 1.2225e-08\n",
      "Epoch 11/50\n",
      "4/4 [==============================] - 0s 11ms/step - loss: 1.0717e-08 - val_loss: 1.0464e-08\n",
      "Epoch 12/50\n",
      "4/4 [==============================] - 0s 14ms/step - loss: 8.9390e-09 - val_loss: 1.0419e-08\n",
      "Epoch 13/50\n",
      "4/4 [==============================] - 0s 11ms/step - loss: 7.7416e-09 - val_loss: 1.0788e-08\n",
      "Epoch 14/50\n",
      "4/4 [==============================] - 0s 11ms/step - loss: 8.0163e-09 - val_loss: 1.0509e-08\n",
      "Epoch 15/50\n",
      "4/4 [==============================] - 0s 10ms/step - loss: 7.5577e-09 - val_loss: 1.0238e-08\n",
      "Epoch 16/50\n",
      "4/4 [==============================] - 0s 11ms/step - loss: 8.0894e-09 - val_loss: 1.0294e-08\n",
      "Epoch 17/50\n",
      "4/4 [==============================] - 0s 10ms/step - loss: 7.8335e-09 - val_loss: 9.7475e-09\n",
      "Epoch 18/50\n",
      "4/4 [==============================] - 0s 10ms/step - loss: 7.6361e-09 - val_loss: 9.8254e-09\n",
      "Epoch 19/50\n",
      "4/4 [==============================] - 0s 9ms/step - loss: 7.5143e-09 - val_loss: 1.0036e-08\n",
      "Epoch 20/50\n",
      "4/4 [==============================] - 0s 9ms/step - loss: 8.1447e-09 - val_loss: 1.0025e-08\n",
      "Epoch 21/50\n",
      "4/4 [==============================] - 0s 10ms/step - loss: 7.8256e-09 - val_loss: 9.6554e-09\n",
      "Epoch 22/50\n",
      "4/4 [==============================] - 0s 12ms/step - loss: 7.4417e-09 - val_loss: 9.8788e-09\n",
      "Epoch 23/50\n",
      "4/4 [==============================] - 0s 12ms/step - loss: 7.7150e-09 - val_loss: 9.6376e-09\n",
      "Epoch 24/50\n",
      "4/4 [==============================] - 0s 11ms/step - loss: 7.4548e-09 - val_loss: 9.6433e-09\n",
      "Epoch 25/50\n",
      "4/4 [==============================] - 0s 13ms/step - loss: 7.1491e-09 - val_loss: 9.8820e-09\n",
      "Epoch 26/50\n",
      "4/4 [==============================] - 0s 11ms/step - loss: 7.1791e-09 - val_loss: 9.6204e-09\n",
      "Epoch 27/50\n",
      "4/4 [==============================] - 0s 11ms/step - loss: 7.1317e-09 - val_loss: 9.6747e-09\n",
      "Epoch 28/50\n",
      "4/4 [==============================] - 0s 12ms/step - loss: 7.0367e-09 - val_loss: 9.9036e-09\n",
      "Epoch 29/50\n",
      "4/4 [==============================] - 0s 12ms/step - loss: 7.1191e-09 - val_loss: 9.6554e-09\n",
      "Epoch 30/50\n",
      "4/4 [==============================] - 0s 11ms/step - loss: 7.1115e-09 - val_loss: 9.8400e-09\n",
      "Epoch 31/50\n",
      "4/4 [==============================] - 0s 11ms/step - loss: 7.0179e-09 - val_loss: 9.5610e-09\n",
      "Epoch 32/50\n",
      "4/4 [==============================] - 0s 11ms/step - loss: 7.0625e-09 - val_loss: 9.9367e-09\n",
      "Epoch 33/50\n",
      "4/4 [==============================] - 0s 13ms/step - loss: 7.0260e-09 - val_loss: 9.8221e-09\n",
      "Epoch 34/50\n",
      "4/4 [==============================] - 0s 12ms/step - loss: 7.1505e-09 - val_loss: 9.7085e-09\n",
      "Epoch 35/50\n",
      "4/4 [==============================] - 0s 11ms/step - loss: 7.1869e-09 - val_loss: 9.8045e-09\n",
      "Epoch 36/50\n",
      "4/4 [==============================] - 0s 11ms/step - loss: 7.2494e-09 - val_loss: 9.9417e-09\n",
      "Epoch 37/50\n",
      "4/4 [==============================] - 0s 10ms/step - loss: 7.6209e-09 - val_loss: 1.0676e-08\n",
      "Epoch 38/50\n",
      "4/4 [==============================] - 0s 11ms/step - loss: 7.3053e-09 - val_loss: 9.6217e-09\n",
      "Epoch 39/50\n",
      "4/4 [==============================] - 0s 10ms/step - loss: 7.1212e-09 - val_loss: 9.9438e-09\n",
      "Epoch 40/50\n",
      "4/4 [==============================] - 0s 10ms/step - loss: 7.3763e-09 - val_loss: 9.7387e-09\n",
      "Epoch 41/50\n",
      "4/4 [==============================] - 0s 12ms/step - loss: 7.2171e-09 - val_loss: 9.8752e-09\n",
      "Epoch 42/50\n",
      "4/4 [==============================] - 0s 10ms/step - loss: 7.4617e-09 - val_loss: 1.1495e-08\n",
      "Epoch 43/50\n",
      "4/4 [==============================] - 0s 11ms/step - loss: 7.5231e-09 - val_loss: 1.0958e-08\n",
      "Epoch 44/50\n",
      "4/4 [==============================] - 0s 12ms/step - loss: 8.0688e-09 - val_loss: 1.0889e-08\n",
      "Epoch 45/50\n",
      "4/4 [==============================] - 0s 10ms/step - loss: 7.3571e-09 - val_loss: 1.0388e-08\n",
      "Epoch 46/50\n",
      "4/4 [==============================] - 0s 11ms/step - loss: 7.8342e-09 - val_loss: 9.9457e-09\n",
      "Epoch 47/50\n",
      "4/4 [==============================] - 0s 12ms/step - loss: 7.5360e-09 - val_loss: 1.0319e-08\n",
      "Epoch 48/50\n",
      "4/4 [==============================] - 0s 11ms/step - loss: 7.8790e-09 - val_loss: 1.0314e-08\n",
      "Epoch 49/50\n",
      "4/4 [==============================] - 0s 10ms/step - loss: 7.6779e-09 - val_loss: 9.7869e-09\n",
      "Epoch 50/50\n",
      "4/4 [==============================] - 0s 11ms/step - loss: 7.6831e-09 - val_loss: 1.1369e-08\n"
     ]
    }
   ],
   "source": [
    "# Build model\n",
    "# Based on: https://medium.com/@curiousily/credit-card-fraud-detection-using-autoencoders-in-keras-tensorflow-for-hackers-part-vii-20e0c85301bd\n",
    "# encoding_dim = 2       # Number of nodes in first layer\n",
    "# model = models.Sequential([\n",
    "#     layers.InputLayer(input_shape=sample_shape),\n",
    "#     layers.Dense(encoding_dim, activation='relu'),\n",
    "#     layers.Dropout(0.2),\n",
    "#     layers.Dense(*sample_shape, activation='relu')\n",
    "# ])\n",
    "# model.summary()\n",
    "# model.compile(optimizer='adam',\n",
    "#              loss='mse')\n",
    "# history = model.fit(x_train,\n",
    "#                    x_train,\n",
    "#                    epochs=50,\n",
    "#                    batch_size=100,\n",
    "#                    validation_data=(x_val, x_val),\n",
    "#                    verbose=1)\n",
    "# model.save(keras_model_name + '.h5')"
   ]
  },
  {
   "cell_type": "code",
   "execution_count": 88,
   "metadata": {},
   "outputs": [
    {
     "name": "stdout",
     "output_type": "stream",
     "text": [
      "4/4 [==============================] - 0s 2ms/step\n",
      "Average MSE for normal validation set: 1.1368876726959487e-08\n",
      "Standard deviation of MSE for normal validation set: 3.1192293301091496e-08\n",
      "Recommended threshold (3x std dev + avg): 1.0494575663023397e-07\n"
     ]
    },
    {
     "data": {
      "text/plain": [
       "(array([93.,  8.,  1.,  1.,  1.,  0.,  0.,  0.,  0.,  0.,  0.,  0.,  0.,\n",
       "         0.,  0.,  0.,  0.,  0.,  0.,  1.]),\n",
       " array([5.99106901e-10, 1.61741032e-08, 3.17490994e-08, 4.73240957e-08,\n",
       "        6.28990920e-08, 7.84740882e-08, 9.40490845e-08, 1.09624081e-07,\n",
       "        1.25199077e-07, 1.40774073e-07, 1.56349070e-07, 1.71924066e-07,\n",
       "        1.87499062e-07, 2.03074058e-07, 2.18649055e-07, 2.34224051e-07,\n",
       "        2.49799047e-07, 2.65374043e-07, 2.80949040e-07, 2.96524036e-07,\n",
       "        3.12099032e-07]),\n",
       " <BarContainer object of 20 artists>)"
      ]
     },
     "execution_count": 88,
     "metadata": {},
     "output_type": "execute_result"
    },
    {
     "data": {
      "image/png": "[encoded data removed]",
      "text/plain": [
       "<Figure size 432x288 with 1 Axes>"
      ]
     },
     "metadata": {
      "needs_background": "light"
     },
     "output_type": "display_data"
    }
   ],
   "source": [
    "# Calculate MSE from validation set\n",
    "predictions = model.predict(x_val)\n",
    "normal_mse = np.mean(np.power(x_val - predictions, 2), axis=1)\n",
    "print('Average MSE for normal validation set:', np.average(normal_mse))\n",
    "print('Standard deviation of MSE for normal validation set:', np.std(normal_mse))\n",
    "print('Recommended threshold (3x std dev + avg):', (3*np.std(normal_mse)) + np.average(normal_mse))\n",
    "fig, ax = plt.subplots(1,1)\n",
    "ax.hist(normal_mse, bins=20, label='normal', color='blue', alpha=0.7)"
   ]
  },
  {
   "cell_type": "code",
   "execution_count": 89,
   "metadata": {},
   "outputs": [
    {
     "name": "stdout",
     "output_type": "stream",
     "text": [
      "Extracted features from anomaly set. Shape: (105, 3)\n"
     ]
    }
   ],
   "source": [
    "# Extract features from anomaly test set (truncate to length of X test set)\n",
    "anomaly_ops_trunc = anomaly_op_filenames[0:len(normal_mse)]\n",
    "anomaly_features = create_feature_set(anomaly_ops_trunc)\n",
    "print('Extracted features from anomaly set. Shape:', anomaly_features.shape)"
   ]
  },
  {
   "cell_type": "code",
   "execution_count": 90,
   "metadata": {},
   "outputs": [
    {
     "name": "stdout",
     "output_type": "stream",
     "text": [
      "4/4 [==============================] - 0s 2ms/step\n",
      "Average MSE for for anomaly test set: 0.0002801646838960889\n"
     ]
    }
   ],
   "source": [
    "# Calculate MSE from anomaly set\n",
    "predictions = model.predict(anomaly_features)\n",
    "anomaly_mse = np.mean(np.power(anomaly_features - predictions, 2), axis=1)\n",
    "print('Average MSE for for anomaly test set:', np.average(anomaly_mse))"
   ]
  },
  {
   "cell_type": "code",
   "execution_count": 91,
   "metadata": {},
   "outputs": [
    {
     "data": {
      "text/plain": [
       "(array([21., 19.,  3., 13.,  2.,  0.,  0.,  0.,  0.,  0.,  1.,  8.,  9.,\n",
       "        10.,  7.,  1.,  5.,  2.,  1.,  3.]),\n",
       " array([6.28350248e-06, 4.43936011e-05, 8.25036998e-05, 1.20613798e-04,\n",
       "        1.58723897e-04, 1.96833996e-04, 2.34944094e-04, 2.73054193e-04,\n",
       "        3.11164292e-04, 3.49274390e-04, 3.87384489e-04, 4.25494588e-04,\n",
       "        4.63604686e-04, 5.01714785e-04, 5.39824884e-04, 5.77934982e-04,\n",
       "        6.16045081e-04, 6.54155180e-04, 6.92265278e-04, 7.30375377e-04,\n",
       "        7.68485476e-04]),\n",
       " <BarContainer object of 20 artists>)"
      ]
     },
     "execution_count": 91,
     "metadata": {},
     "output_type": "execute_result"
    },
    {
     "data": {
      "image/png": "[encoded data removed]",
      "text/plain": [
       "<Figure size 432x288 with 1 Axes>"
      ]
     },
     "metadata": {
      "needs_background": "light"
     },
     "output_type": "display_data"
    }
   ],
   "source": [
    "# Plot histograms of normal validation vs. anomaly sets (MSEs)\n",
    "fig, ax = plt.subplots(1,1)\n",
    "plt.xscale(\"log\")\n",
    "ax.hist(normal_mse, bins=20, label='normal', color='blue', alpha=0.7)\n",
    "ax.hist(anomaly_mse, bins=20, label='anomaly', color='red', alpha=0.7)"
   ]
  },
  {
   "cell_type": "code",
   "execution_count": 92,
   "metadata": {},
   "outputs": [
    {
     "name": "stdout",
     "output_type": "stream",
     "text": [
      "4/4 [==============================] - 0s 1ms/step\n",
      "Average MSE for normal test set: 7.51156774147625e-09\n"
     ]
    }
   ],
   "source": [
    "# Look at separation using test set\n",
    "predictions = model.predict(x_test)\n",
    "normal_mse = np.mean(np.power(x_test - predictions, 2), axis=1)\n",
    "print('Average MSE for normal test set:', np.average(normal_mse))"
   ]
  },
  {
   "cell_type": "code",
   "execution_count": 93,
   "metadata": {},
   "outputs": [
    {
     "data": {
      "text/plain": [
       "(array([21., 19.,  3., 13.,  2.,  0.,  0.,  0.,  0.,  0.,  1.,  8.,  9.,\n",
       "        10.,  7.,  1.,  5.,  2.,  1.,  3.]),\n",
       " array([6.28350248e-06, 4.43936011e-05, 8.25036998e-05, 1.20613798e-04,\n",
       "        1.58723897e-04, 1.96833996e-04, 2.34944094e-04, 2.73054193e-04,\n",
       "        3.11164292e-04, 3.49274390e-04, 3.87384489e-04, 4.25494588e-04,\n",
       "        4.63604686e-04, 5.01714785e-04, 5.39824884e-04, 5.77934982e-04,\n",
       "        6.16045081e-04, 6.54155180e-04, 6.92265278e-04, 7.30375377e-04,\n",
       "        7.68485476e-04]),\n",
       " <BarContainer object of 20 artists>)"
      ]
     },
     "execution_count": 93,
     "metadata": {},
     "output_type": "execute_result"
    },
    {
     "data": {
      "image/png": "[encoded data removed]",
      "text/plain": [
       "<Figure size 432x288 with 1 Axes>"
      ]
     },
     "metadata": {
      "needs_background": "light"
     },
     "output_type": "display_data"
    }
   ],
   "source": [
    "# Plot histograms of normal test vs. anomaly sets (MSEs)\n",
    "fig, ax = plt.subplots(1,1)\n",
    "plt.xscale(\"log\")\n",
    "ax.hist(normal_mse, bins=20, label='normal', color='blue', alpha=0.7)\n",
    "ax.hist(anomaly_mse, bins=20, label='anomaly', color='red', alpha=0.7)"
   ]
  },
  {
   "cell_type": "code",
   "execution_count": 94,
   "metadata": {},
   "outputs": [],
   "source": [
    "# If we're happy with the performance, save the model\n",
    "model.save(keras_model_name + '.h5')"
   ]
  },
  {
   "cell_type": "code",
   "execution_count": 95,
   "metadata": {},
   "outputs": [],
   "source": [
    "# Save a normal and anomaly sample for trying out on the MCU\n",
    "normal_sample = np.genfromtxt(filenames_test[0], delimiter=',')\n",
    "anomaly_sample = np.genfromtxt(anomaly_op_filenames[0], delimiter=',')\n",
    "np.savez(sample_file_name + '.npz', normal_sample=normal_sample, anomaly_sample=anomaly_sample)"
   ]
  },
  {
   "cell_type": "code",
   "execution_count": 96,
   "metadata": {},
   "outputs": [],
   "source": [
    "# Save the test dataset for use as a representative dataset\n",
    "np.savez(rep_dataset_name + '.npz', x_test=x_test)"
   ]
  },
  {
   "cell_type": "code",
   "execution_count": 97,
   "metadata": {},
   "outputs": [],
   "source": [
    "# Create a classifier (0 = normal, 1 = anomaly)\n",
    "def detect_anomaly(x, model, threshold=0):\n",
    "    input_tensor = x_test[0].reshape(1, -1)\n",
    "    pred = model.predict(input_tensor)\n",
    "    mse = np.mean(np.power(x - pred, 2), axis=1)\n",
    "    if mse > threshold:\n",
    "        return 1\n",
    "    else:\n",
    "        return 0"
   ]
  },
  {
   "cell_type": "code",
   "execution_count": 104,
   "metadata": {},
   "outputs": [],
   "source": [
    "# Choose a threshold\n",
    "anomaly_threshold = 1.304726992564026e-07"
   ]
  },
  {
   "cell_type": "code",
   "execution_count": 105,
   "metadata": {},
   "outputs": [
    {
     "name": "stdout",
     "output_type": "stream",
     "text": [
      "1/1 [==============================] - 0s 24ms/step\n",
      "1/1 [==============================] - 0s 19ms/step\n",
      "1/1 [==============================] - 0s 23ms/step\n",
      "1/1 [==============================] - 0s 20ms/step\n",
      "1/1 [==============================] - 0s 23ms/step\n",
      "1/1 [==============================] - 0s 22ms/step\n",
      "1/1 [==============================] - 0s 26ms/step\n",
      "1/1 [==============================] - 0s 26ms/step\n",
      "1/1 [==============================] - 0s 20ms/step\n",
      "1/1 [==============================] - 0s 22ms/step\n",
      "1/1 [==============================] - 0s 26ms/step\n",
      "1/1 [==============================] - 0s 21ms/step\n",
      "1/1 [==============================] - 0s 23ms/step\n",
      "1/1 [==============================] - 0s 23ms/step\n",
      "1/1 [==============================] - 0s 22ms/step\n",
      "1/1 [==============================] - 0s 20ms/step\n",
      "1/1 [==============================] - 0s 19ms/step\n",
      "1/1 [==============================] - 0s 20ms/step\n",
      "1/1 [==============================] - 0s 21ms/step\n",
      "1/1 [==============================] - 0s 23ms/step\n",
      "1/1 [==============================] - 0s 23ms/step\n",
      "1/1 [==============================] - 0s 27ms/step\n",
      "1/1 [==============================] - 0s 20ms/step\n",
      "1/1 [==============================] - 0s 21ms/step\n",
      "1/1 [==============================] - 0s 21ms/step\n",
      "1/1 [==============================] - 0s 24ms/step\n",
      "1/1 [==============================] - 0s 27ms/step\n",
      "1/1 [==============================] - 0s 23ms/step\n",
      "1/1 [==============================] - 0s 23ms/step\n",
      "1/1 [==============================] - 0s 38ms/step\n",
      "1/1 [==============================] - 0s 20ms/step\n",
      "1/1 [==============================] - 0s 23ms/step\n",
      "1/1 [==============================] - 0s 22ms/step\n",
      "1/1 [==============================] - 0s 20ms/step\n",
      "1/1 [==============================] - 0s 21ms/step\n",
      "1/1 [==============================] - 0s 23ms/step\n",
      "1/1 [==============================] - 0s 23ms/step\n",
      "1/1 [==============================] - 0s 20ms/step\n",
      "1/1 [==============================] - 0s 26ms/step\n",
      "1/1 [==============================] - 0s 25ms/step\n",
      "1/1 [==============================] - 0s 28ms/step\n",
      "1/1 [==============================] - 0s 21ms/step\n",
      "1/1 [==============================] - 0s 22ms/step\n",
      "1/1 [==============================] - 0s 20ms/step\n",
      "1/1 [==============================] - 0s 19ms/step\n",
      "1/1 [==============================] - 0s 18ms/step\n",
      "1/1 [==============================] - 0s 18ms/step\n",
      "1/1 [==============================] - 0s 18ms/step\n",
      "1/1 [==============================] - 0s 23ms/step\n",
      "1/1 [==============================] - 0s 26ms/step\n",
      "1/1 [==============================] - 0s 30ms/step\n",
      "1/1 [==============================] - 0s 23ms/step\n",
      "1/1 [==============================] - 0s 18ms/step\n",
      "1/1 [==============================] - 0s 19ms/step\n",
      "1/1 [==============================] - 0s 18ms/step\n",
      "1/1 [==============================] - 0s 19ms/step\n",
      "1/1 [==============================] - 0s 19ms/step\n",
      "1/1 [==============================] - 0s 18ms/step\n",
      "1/1 [==============================] - 0s 19ms/step\n",
      "1/1 [==============================] - 0s 18ms/step\n",
      "1/1 [==============================] - 0s 17ms/step\n",
      "1/1 [==============================] - 0s 19ms/step\n",
      "1/1 [==============================] - 0s 21ms/step\n",
      "1/1 [==============================] - 0s 23ms/step\n",
      "1/1 [==============================] - 0s 21ms/step\n",
      "1/1 [==============================] - 0s 19ms/step\n",
      "1/1 [==============================] - 0s 19ms/step\n",
      "1/1 [==============================] - 0s 19ms/step\n",
      "1/1 [==============================] - 0s 18ms/step\n",
      "1/1 [==============================] - 0s 17ms/step\n",
      "1/1 [==============================] - 0s 20ms/step\n",
      "1/1 [==============================] - 0s 19ms/step\n",
      "1/1 [==============================] - 0s 18ms/step\n",
      "1/1 [==============================] - 0s 17ms/step\n",
      "1/1 [==============================] - 0s 19ms/step\n",
      "1/1 [==============================] - 0s 18ms/step\n",
      "1/1 [==============================] - 0s 19ms/step\n",
      "1/1 [==============================] - 0s 20ms/step\n",
      "1/1 [==============================] - 0s 16ms/step\n",
      "1/1 [==============================] - 0s 17ms/step\n",
      "1/1 [==============================] - 0s 17ms/step\n",
      "1/1 [==============================] - 0s 18ms/step\n",
      "1/1 [==============================] - 0s 18ms/step\n",
      "1/1 [==============================] - 0s 19ms/step\n",
      "1/1 [==============================] - 0s 19ms/step\n",
      "1/1 [==============================] - 0s 17ms/step\n",
      "1/1 [==============================] - 0s 18ms/step\n",
      "1/1 [==============================] - 0s 16ms/step\n",
      "1/1 [==============================] - 0s 22ms/step\n",
      "1/1 [==============================] - 0s 19ms/step\n",
      "1/1 [==============================] - 0s 19ms/step\n",
      "1/1 [==============================] - 0s 19ms/step\n",
      "1/1 [==============================] - 0s 19ms/step\n",
      "1/1 [==============================] - 0s 21ms/step\n",
      "1/1 [==============================] - 0s 20ms/step\n",
      "1/1 [==============================] - 0s 19ms/step\n",
      "1/1 [==============================] - 0s 20ms/step\n",
      "1/1 [==============================] - 0s 19ms/step\n",
      "1/1 [==============================] - 0s 18ms/step\n",
      "1/1 [==============================] - 0s 18ms/step\n",
      "1/1 [==============================] - 0s 19ms/step\n",
      "1/1 [==============================] - 0s 17ms/step\n",
      "1/1 [==============================] - 0s 16ms/step\n",
      "1/1 [==============================] - 0s 18ms/step\n",
      "1/1 [==============================] - 0s 17ms/step\n",
      "[0, 0, 0, 0, 0, 0, 0, 0, 0, 0, 0, 0, 0, 0, 0, 0, 0, 0, 0, 0, 0, 0, 0, 0, 0, 0, 0, 0, 0, 0, 0, 0, 0, 0, 0, 0, 0, 0, 0, 0, 0, 0, 0, 0, 0, 0, 0, 0, 0, 0, 0, 0, 0, 0, 0, 0, 0, 0, 0, 0, 0, 0, 0, 0, 0, 0, 0, 0, 0, 0, 0, 0, 0, 0, 0, 0, 0, 0, 0, 0, 0, 0, 0, 0, 0, 0, 0, 0, 0, 0, 0, 0, 0, 0, 0, 0, 0, 0, 0, 0, 0, 0, 0, 0, 0]\n"
     ]
    }
   ],
   "source": [
    "# Perform classification on test set\n",
    "pred_test = [detect_anomaly(x, model, anomaly_threshold) for x in x_test]\n",
    "print(pred_test)"
   ]
  },
  {
   "cell_type": "code",
   "execution_count": 106,
   "metadata": {},
   "outputs": [
    {
     "name": "stdout",
     "output_type": "stream",
     "text": [
      "1/1 [==============================] - 0s 19ms/step\n",
      "1/1 [==============================] - 0s 17ms/step\n",
      "1/1 [==============================] - 0s 19ms/step\n",
      "1/1 [==============================] - 0s 18ms/step\n",
      "1/1 [==============================] - 0s 17ms/step\n",
      "1/1 [==============================] - 0s 17ms/step\n",
      "1/1 [==============================] - 0s 18ms/step\n",
      "1/1 [==============================] - 0s 18ms/step\n",
      "1/1 [==============================] - 0s 18ms/step\n",
      "1/1 [==============================] - 0s 18ms/step\n",
      "1/1 [==============================] - 0s 20ms/step\n",
      "1/1 [==============================] - 0s 17ms/step\n",
      "1/1 [==============================] - 0s 16ms/step\n",
      "1/1 [==============================] - 0s 19ms/step\n",
      "1/1 [==============================] - 0s 20ms/step\n",
      "1/1 [==============================] - 0s 19ms/step\n",
      "1/1 [==============================] - 0s 18ms/step\n",
      "1/1 [==============================] - 0s 18ms/step\n",
      "1/1 [==============================] - 0s 18ms/step\n",
      "1/1 [==============================] - 0s 18ms/step\n",
      "1/1 [==============================] - 0s 17ms/step\n",
      "1/1 [==============================] - 0s 17ms/step\n",
      "1/1 [==============================] - 0s 18ms/step\n",
      "1/1 [==============================] - 0s 17ms/step\n",
      "1/1 [==============================] - 0s 17ms/step\n",
      "1/1 [==============================] - 0s 18ms/step\n",
      "1/1 [==============================] - 0s 19ms/step\n",
      "1/1 [==============================] - 0s 18ms/step\n",
      "1/1 [==============================] - 0s 17ms/step\n",
      "1/1 [==============================] - 0s 18ms/step\n",
      "1/1 [==============================] - 0s 18ms/step\n",
      "1/1 [==============================] - 0s 17ms/step\n",
      "1/1 [==============================] - 0s 17ms/step\n",
      "1/1 [==============================] - 0s 19ms/step\n",
      "1/1 [==============================] - 0s 16ms/step\n",
      "1/1 [==============================] - 0s 18ms/step\n",
      "1/1 [==============================] - 0s 17ms/step\n",
      "1/1 [==============================] - 0s 18ms/step\n",
      "1/1 [==============================] - 0s 17ms/step\n",
      "1/1 [==============================] - 0s 16ms/step\n",
      "1/1 [==============================] - 0s 17ms/step\n",
      "1/1 [==============================] - 0s 17ms/step\n",
      "1/1 [==============================] - 0s 18ms/step\n",
      "1/1 [==============================] - 0s 18ms/step\n",
      "1/1 [==============================] - 0s 18ms/step\n",
      "1/1 [==============================] - 0s 18ms/step\n",
      "1/1 [==============================] - 0s 17ms/step\n",
      "1/1 [==============================] - 0s 17ms/step\n",
      "1/1 [==============================] - 0s 18ms/step\n",
      "1/1 [==============================] - 0s 18ms/step\n",
      "1/1 [==============================] - 0s 19ms/step\n",
      "1/1 [==============================] - 0s 17ms/step\n",
      "1/1 [==============================] - 0s 19ms/step\n",
      "1/1 [==============================] - 0s 18ms/step\n",
      "1/1 [==============================] - 0s 19ms/step\n",
      "1/1 [==============================] - 0s 19ms/step\n",
      "1/1 [==============================] - 0s 17ms/step\n",
      "1/1 [==============================] - 0s 18ms/step\n",
      "1/1 [==============================] - 0s 24ms/step\n",
      "1/1 [==============================] - 0s 24ms/step\n",
      "1/1 [==============================] - 0s 20ms/step\n",
      "1/1 [==============================] - 0s 18ms/step\n",
      "1/1 [==============================] - 0s 18ms/step\n",
      "1/1 [==============================] - 0s 19ms/step\n",
      "1/1 [==============================] - 0s 18ms/step\n",
      "1/1 [==============================] - 0s 19ms/step\n",
      "1/1 [==============================] - 0s 17ms/step\n",
      "1/1 [==============================] - 0s 17ms/step\n",
      "1/1 [==============================] - 0s 18ms/step\n",
      "1/1 [==============================] - 0s 18ms/step\n",
      "1/1 [==============================] - 0s 20ms/step\n",
      "1/1 [==============================] - 0s 19ms/step\n",
      "1/1 [==============================] - 0s 19ms/step\n",
      "1/1 [==============================] - 0s 18ms/step\n",
      "1/1 [==============================] - 0s 19ms/step\n",
      "1/1 [==============================] - 0s 17ms/step\n",
      "1/1 [==============================] - 0s 21ms/step\n",
      "1/1 [==============================] - 0s 18ms/step\n",
      "1/1 [==============================] - 0s 18ms/step\n",
      "1/1 [==============================] - 0s 18ms/step\n",
      "1/1 [==============================] - 0s 17ms/step\n",
      "1/1 [==============================] - 0s 18ms/step\n",
      "1/1 [==============================] - 0s 18ms/step\n",
      "1/1 [==============================] - 0s 18ms/step\n",
      "1/1 [==============================] - 0s 18ms/step\n",
      "1/1 [==============================] - 0s 18ms/step\n",
      "1/1 [==============================] - 0s 20ms/step\n",
      "1/1 [==============================] - 0s 20ms/step\n",
      "1/1 [==============================] - 0s 17ms/step\n",
      "1/1 [==============================] - 0s 18ms/step\n",
      "1/1 [==============================] - 0s 17ms/step\n",
      "1/1 [==============================] - 0s 19ms/step\n",
      "1/1 [==============================] - 0s 18ms/step\n",
      "1/1 [==============================] - 0s 20ms/step\n",
      "1/1 [==============================] - 0s 18ms/step\n",
      "1/1 [==============================] - 0s 17ms/step\n",
      "1/1 [==============================] - 0s 17ms/step\n",
      "1/1 [==============================] - 0s 16ms/step\n",
      "1/1 [==============================] - 0s 18ms/step\n",
      "1/1 [==============================] - 0s 22ms/step\n",
      "1/1 [==============================] - 0s 17ms/step\n",
      "1/1 [==============================] - 0s 18ms/step\n",
      "1/1 [==============================] - 0s 18ms/step\n",
      "1/1 [==============================] - 0s 18ms/step\n",
      "1/1 [==============================] - 0s 18ms/step\n",
      "[1, 1, 1, 1, 1, 1, 1, 1, 1, 1, 1, 1, 1, 1, 1, 1, 1, 1, 1, 1, 1, 1, 1, 1, 1, 1, 1, 1, 1, 1, 1, 1, 1, 1, 1, 1, 1, 1, 1, 1, 1, 1, 1, 1, 1, 1, 1, 1, 1, 1, 1, 1, 1, 1, 1, 1, 1, 1, 1, 1, 1, 1, 1, 1, 1, 1, 1, 1, 1, 1, 1, 1, 1, 1, 1, 1, 1, 1, 1, 1, 1, 1, 1, 1, 1, 1, 1, 1, 1, 1, 1, 1, 1, 1, 1, 1, 1, 1, 1, 1, 1, 1, 1, 1, 1]\n"
     ]
    }
   ],
   "source": [
    "# Perform classification on anomaly set\n",
    "pred_anomaly = [detect_anomaly(x, model, anomaly_threshold) for x in anomaly_features]\n",
    "print(pred_anomaly)"
   ]
  },
  {
   "cell_type": "code",
   "execution_count": 107,
   "metadata": {},
   "outputs": [],
   "source": [
    "# Combine predictions into one long list and create a label list\n",
    "pred = np.array(pred_test + pred_anomaly)\n",
    "labels = ([0] * len(pred_test)) + ([1] * len(pred_anomaly))"
   ]
  },
  {
   "cell_type": "code",
   "execution_count": 108,
   "metadata": {},
   "outputs": [
    {
     "name": "stdout",
     "output_type": "stream",
     "text": [
      "[[105   0]\n",
      " [  0 105]]\n"
     ]
    }
   ],
   "source": [
    "# Create confusion matrix\n",
    "cm = confusion_matrix(labels, pred)\n",
    "print(cm)"
   ]
  },
  {
   "cell_type": "code",
   "execution_count": 109,
   "metadata": {},
   "outputs": [
    {
     "data": {
      "text/plain": [
       "Text(33.0, 0.5, 'Actual')"
      ]
     },
     "execution_count": 109,
     "metadata": {},
     "output_type": "execute_result"
    },
    {
     "data": {
      "image/png": "[encoded data removed]",
      "text/plain": [
       "<Figure size 432x288 with 2 Axes>"
      ]
     },
     "metadata": {
      "needs_background": "light"
     },
     "output_type": "display_data"
    }
   ],
   "source": [
    "# Make confusion matrix pretty\n",
    "df_cm = pd.DataFrame(cm, index=['normal', 'anomaly'], columns=['normal', 'anomaly'])\n",
    "plt.figure()\n",
    "sn.heatmap(df_cm, annot=True)\n",
    "plt.title('Confusion Matrix')\n",
    "plt.xlabel('Prediction')\n",
    "plt.ylabel('Actual')"
   ]
  }
 ],
 "metadata": {
  "kernelspec": {
   "display_name": "Python 3.10.6 64-bit",
   "language": "python",
   "name": "python3"
  },
  "language_info": {
   "codemirror_mode": {
    "name": "ipython",
    "version": 3
   },
   "file_extension": ".py",
   "mimetype": "text/x-python",
   "name": "python",
   "nbconvert_exporter": "python",
   "pygments_lexer": "ipython3",
   "version": "3.10.6"
  },
  "vscode": {
   "interpreter": {
    "hash": "72dbf09e9dcc1083b9e83a863bbb442aaf8d8885a2d87cb25ca28ecf79dfaebb"
   }
  }
 },
 "nbformat": 4,
 "nbformat_minor": 4
}
