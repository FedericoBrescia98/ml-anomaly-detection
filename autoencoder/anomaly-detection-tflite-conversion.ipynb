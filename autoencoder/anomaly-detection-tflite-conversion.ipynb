{
 "cells": [
  {
   "attachments": {},
   "cell_type": "markdown",
   "metadata": {},
   "source": [
    "TensorFlow Lite Conversion\n",
    "---\n",
    "Convert the full Keras model into a smaller TensorFlow Lite model file. Then, read in the raw hex bytes from the model file and write them to a separate C header file as an array."
   ]
  },
  {
   "cell_type": "code",
   "execution_count": 1,
   "metadata": {},
   "outputs": [],
   "source": [
    "from os.path import join\n",
    "import numpy as np\n",
    "import matplotlib.pyplot as plt\n",
    "import tensorflow as tf\n",
    "from tensorflow.keras import models\n",
    "from scipy import stats\n",
    "import c_writer"
   ]
  },
  {
   "cell_type": "code",
   "execution_count": 3,
   "metadata": {},
   "outputs": [],
   "source": [
    "# Settings\n",
    "models_path = 'models'  # Where we can find the model files (relative path location)\n",
    "keras_model_name = 'my_model'           # Will be given .h5 suffix\n",
    "tflite_model_name = 'my_model'          # Will be given .tflite suffix\n",
    "c_model_name = 'my_model'               # Will be given .h suffix1"
   ]
  },
  {
   "cell_type": "code",
   "execution_count": 4,
   "metadata": {},
   "outputs": [],
   "source": [
    "# Load model\n",
    "model = models.load_model(join(models_path, keras_model_name) + '.h5')"
   ]
  },
  {
   "cell_type": "code",
   "execution_count": 5,
   "metadata": {},
   "outputs": [
    {
     "name": "stdout",
     "output_type": "stream",
     "text": [
      "INFO:tensorflow:Assets written to: C:\\Users\\fede-\\AppData\\Local\\Temp\\tmpx2zn68xl\\assets\n"
     ]
    },
    {
     "data": {
      "text/plain": [
       "1548"
      ]
     },
     "execution_count": 5,
     "metadata": {},
     "output_type": "execute_result"
    }
   ],
   "source": [
    "# Convert Keras model to a tflite model\n",
    "converter = tf.lite.TFLiteConverter.from_keras_model(model)\n",
    "converter.optimizations = [tf.lite.Optimize.DEFAULT]\n",
    "tflite_model = converter.convert()\n",
    "open(join(models_path, tflite_model_name) + '.tflite', 'wb').write(tflite_model)"
   ]
  },
  {
   "cell_type": "code",
   "execution_count": 6,
   "metadata": {},
   "outputs": [],
   "source": [
    "# Construct header file\n",
    "hex_array = [format(val, '#04x') for val in tflite_model]\n",
    "c_model = c_writer.create_array(np.array(hex_array), 'unsigned char', c_model_name)\n",
    "header_str = c_writer.create_header(c_model, c_model_name)"
   ]
  },
  {
   "cell_type": "code",
   "execution_count": 7,
   "metadata": {},
   "outputs": [],
   "source": [
    "# Save C header file\n",
    "with open(join(models_path, c_model_name) + '.h', 'w') as file:\n",
    "    file.write(header_str)"
   ]
  },
  {
   "attachments": {},
   "cell_type": "markdown",
   "metadata": {},
   "source": [
    "Test Inference\n",
    "---\n",
    "Get known good values from the model for normal and anomaly samples to compare against C++ implementation."
   ]
  },
  {
   "cell_type": "code",
   "execution_count": 8,
   "metadata": {},
   "outputs": [],
   "source": [
    "# Saved Numpy test samples file location\n",
    "sample_file_path = 'test_samples'\n",
    "sample_file_name = 'normal_anomaly_samples'  # Will be given .npz suffix\n",
    "\n",
    "max_measurements = 128"
   ]
  },
  {
   "cell_type": "code",
   "execution_count": 9,
   "metadata": {},
   "outputs": [
    {
     "name": "stdout",
     "output_type": "stream",
     "text": [
      "(200, 3)\n",
      "(200, 3)\n",
      "[[0.054778 0.041602 0.989359]\n",
      " [0.056852 0.041724 0.990884]\n",
      " [0.054412 0.042395 0.990762]\n",
      " [0.054351 0.040138 0.991372]\n",
      " [0.056425 0.041419 0.98759 ]]\n"
     ]
    }
   ],
   "source": [
    "# Load test samples\n",
    "with np.load(join(sample_file_path, sample_file_name) + '.npz') as data:\n",
    "    normal_sample = data['normal_sample']\n",
    "    anomaly_sample = data['anomaly_sample']\n",
    "print(normal_sample.shape)\n",
    "print(anomaly_sample.shape)\n",
    "print(normal_sample[:5])"
   ]
  },
  {
   "cell_type": "code",
   "execution_count": 10,
   "metadata": {},
   "outputs": [
    {
     "name": "stdout",
     "output_type": "stream",
     "text": [
      "Normal MAD: [0.0006405 0.0006405 0.000732 ]\n",
      "Anomaly MAD: [0.0356445 0.029785  0.0126955]\n"
     ]
    }
   ],
   "source": [
    "# Test extracting features (median absolute deviation) using SciPy\n",
    "sample = normal_sample[0:max_measurements]                  # Truncate to 128 measurements\n",
    "normal_x = stats.median_abs_deviation(sample)  # Calculate MAD\n",
    "sample = anomaly_sample[0:max_measurements]\n",
    "anomaly_x = stats.median_abs_deviation(sample)\n",
    "print(\"Normal MAD:\", normal_x)\n",
    "print(\"Anomaly MAD:\", anomaly_x)"
   ]
  },
  {
   "cell_type": "code",
   "execution_count": 11,
   "metadata": {},
   "outputs": [
    {
     "name": "stdout",
     "output_type": "stream",
     "text": [
      "1/1 [==============================] - 0s 91ms/step\n",
      "Prediction: [[0.00069822 0.00062901 0.00075837]]\n",
      "MSE: 1.3861785782522298e-09\n"
     ]
    }
   ],
   "source": [
    "# Perform inference and find MSE with normal sample\n",
    "input_tensor = normal_x.reshape(1, -1)\n",
    "pred = model.predict(input_tensor)\n",
    "mse = np.mean(np.power(normal_x - pred, 2), axis=1)\n",
    "print(\"Prediction:\", pred)\n",
    "print(\"MSE:\", *mse)"
   ]
  },
  {
   "cell_type": "code",
   "execution_count": 12,
   "metadata": {},
   "outputs": [
    {
     "name": "stdout",
     "output_type": "stream",
     "text": [
      "1/1 [==============================] - 0s 21ms/step\n",
      "Prediction: [[0.00490619 0.0062596  0.00061944]]\n",
      "MSE: 0.0005480397124090671\n"
     ]
    }
   ],
   "source": [
    "# Perform inference and find MSE with anomaly sample\n",
    "input_tensor = anomaly_x.reshape(1, -1)\n",
    "pred = model.predict(input_tensor)\n",
    "mse = np.mean(np.power(anomaly_x - pred, 2), axis=1)\n",
    "print(\"Prediction:\", pred)\n",
    "print(\"MSE:\", *mse)"
   ]
  }
 ],
 "metadata": {
  "kernelspec": {
   "display_name": "Python 3.10.5 64-bit",
   "language": "python",
   "name": "python3"
  },
  "language_info": {
   "codemirror_mode": {
    "name": "ipython",
    "version": 3
   },
   "file_extension": ".py",
   "mimetype": "text/x-python",
   "name": "python",
   "nbconvert_exporter": "python",
   "pygments_lexer": "ipython3",
   "version": "3.10.5"
  },
  "vscode": {
   "interpreter": {
    "hash": "0033e3e0d36cbbab1b21dfc6be14960698c8a08354c33c9d4979a43d4e145d72"
   }
  }
 },
 "nbformat": 4,
 "nbformat_minor": 4
}
